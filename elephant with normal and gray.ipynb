{
 "cells": [
  {
   "cell_type": "code",
   "execution_count": null,
   "id": "c6645251-f9eb-421a-805f-e809480b012d",
   "metadata": {},
   "outputs": [],
   "source": [
    "import streamlit as st\n",
    "import numpy as np\n",
    "from PIL import Image\n",
    "import requests\n",
    "from io import BytesIO\n",
    "\n",
    "# Helper function to load image from a URL\n",
    "def load_image_from_url(url):\n",
    "    response = requests.get(url)\n",
    "    if response.status_code == 200 and 'image' in response.headers['Content-Type']:\n",
    "        return Image.open(BytesIO(response.content))\n",
    "    else:\n",
    "        st.error(\"Failed to load image. URL did not return an image.\")\n",
    "        st.stop()\n",
    "\n",
    "# Streamlit App\n",
    "st.title(\"Elephant Image Viewer\")\n",
    "\n",
    "# Image URL\n",
    "elephant_url = \"https://upload.wikimedia.org/wikipedia/commons/3/37/African_Bush_Elephant.jpg\"\n",
    "\n",
    "# Load and display image\n",
    "elephant = load_image_from_url(elephant_url)\n",
    "st.subheader(\"Original Elephant Image\")\n",
    "st.image(elephant, use_column_width=True)\n",
    "\n",
    "# Show shape\n",
    "elephant_np = np.array(elephant)\n",
    "st.write(\"Elephant image shape:\", elephant_np.shape)\n",
    "\n",
    "# Grayscale\n",
    "elephant_gray = elephant.convert(\"L\")\n",
    "st.subheader(\"Grayscale Elephant Image\")\n",
    "st.image(elephant_gray, use_column_width=True, caption=\"Grayscale Image\")\n",
    "\n",
    "\n"
   ]
  }
 ],
 "metadata": {
  "kernelspec": {
   "display_name": "Python 3 (ipykernel)",
   "language": "python",
   "name": "python3"
  },
  "language_info": {
   "codemirror_mode": {
    "name": "ipython",
    "version": 3
   },
   "file_extension": ".py",
   "mimetype": "text/x-python",
   "name": "python",
   "nbconvert_exporter": "python",
   "pygments_lexer": "ipython3",
   "version": "3.12.7"
  }
 },
 "nbformat": 4,
 "nbformat_minor": 5
}
