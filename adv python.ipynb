{
 "cells": [
  {
   "cell_type": "code",
   "execution_count": 1,
   "id": "7114dba5-a5f5-4f75-87b5-4c72e4bd8675",
   "metadata": {},
   "outputs": [
    {
     "name": "stdout",
     "output_type": "stream",
     "text": [
      "hello\n"
     ]
    }
   ],
   "source": [
    "if True:\n",
    "    print('hello')  "
   ]
  },
  {
   "cell_type": "code",
   "execution_count": 3,
   "id": "0fc62ef7-44da-4467-8686-5544049ecc37",
   "metadata": {},
   "outputs": [
    {
     "name": "stdout",
     "output_type": "stream",
     "text": [
      "hello\n"
     ]
    }
   ],
   "source": [
    "if True:\n",
    "    print('hello')"
   ]
  },
  {
   "cell_type": "code",
   "execution_count": 6,
   "id": "add8cba7-3b4e-4b82-afd6-6f200c96e224",
   "metadata": {},
   "outputs": [],
   "source": [
    "if False:\n",
    "    print('bye')"
   ]
  },
  {
   "cell_type": "code",
   "execution_count": 5,
   "id": "a9f89caa-4e7a-4710-9015-535c76f37ee3",
   "metadata": {},
   "outputs": [
    {
     "name": "stdout",
     "output_type": "stream",
     "text": [
      "Data Science\n",
      "bye for now\n"
     ]
    }
   ],
   "source": [
    "if True: \n",
    "    print('Data Science')\n",
    "    \n",
    "print('bye for now')"
   ]
  },
  {
   "cell_type": "code",
   "execution_count": 7,
   "id": "41e96386-ca01-45b5-af45-fd808570f483",
   "metadata": {},
   "outputs": [
    {
     "name": "stdout",
     "output_type": "stream",
     "text": [
      "bye for now\n"
     ]
    }
   ],
   "source": [
    "if False: \n",
    "    print('Data Science')\n",
    "    \n",
    "print('bye for now')"
   ]
  },
  {
   "cell_type": "code",
   "execution_count": 8,
   "id": "b5a423c9-4bc1-4647-a1b6-13294e7878f4",
   "metadata": {},
   "outputs": [
    {
     "name": "stdout",
     "output_type": "stream",
     "text": [
      "Data Science\n",
      "bye for now\n"
     ]
    }
   ],
   "source": [
    "if True: \n",
    "    print('Data Science')\n",
    "    \n",
    "print('bye for now')"
   ]
  },
  {
   "cell_type": "code",
   "execution_count": 9,
   "id": "317a5452-f67f-4f8e-bb7e-e521b731c168",
   "metadata": {},
   "outputs": [
    {
     "name": "stdout",
     "output_type": "stream",
     "text": [
      "Data Science\n"
     ]
    }
   ],
   "source": [
    "if True: \n",
    "    print('Data Science')\n",
    "    \n",
    "else:\n",
    "    print('bye for now')"
   ]
  },
  {
   "cell_type": "code",
   "execution_count": 10,
   "id": "575d5f5f-ff32-4b7d-8ddc-4939cced6994",
   "metadata": {},
   "outputs": [
    {
     "name": "stdout",
     "output_type": "stream",
     "text": [
      "bye for now\n"
     ]
    }
   ],
   "source": [
    "if False: \n",
    "    print('Data Science')\n",
    "    \n",
    "else:\n",
    "    print('bye for now')"
   ]
  },
  {
   "cell_type": "code",
   "execution_count": 11,
   "id": "475265df-903d-4644-bd29-089b03f7e936",
   "metadata": {},
   "outputs": [
    {
     "name": "stdout",
     "output_type": "stream",
     "text": [
      "Even number\n"
     ]
    }
   ],
   "source": [
    "x = 4\n",
    "\n",
    "r = x % 2 \n",
    "\n",
    "if r == 0:\n",
    "    print('Even number')"
   ]
  },
  {
   "cell_type": "code",
   "execution_count": 14,
   "id": "9fc0e3da-0d26-4a1e-bbc0-32969ccb680d",
   "metadata": {},
   "outputs": [
    {
     "name": "stdout",
     "output_type": "stream",
     "text": [
      "none\n"
     ]
    }
   ],
   "source": [
    "x = 5\n",
    "\n",
    "r = x % 2 \n",
    "\n",
    "if r == 0:\n",
    "    print('Even number')\n",
    "else:\n",
    "    print('none')"
   ]
  },
  {
   "cell_type": "code",
   "execution_count": 15,
   "id": "931c25c0-8fdf-4c29-acca-24a36145e50e",
   "metadata": {},
   "outputs": [
    {
     "name": "stdout",
     "output_type": "stream",
     "text": [
      "Even number\n"
     ]
    }
   ],
   "source": [
    "x = 6\n",
    "\n",
    "r = x % 2 \n",
    "\n",
    "if r == 0:\n",
    "    print('Even number')\n",
    "\n",
    "if r == 1:\n",
    "    print('odd number')"
   ]
  },
  {
   "cell_type": "code",
   "execution_count": 16,
   "id": "8d558c80-0f13-400f-8ba6-6ff1d71ebbb8",
   "metadata": {},
   "outputs": [
    {
     "name": "stdout",
     "output_type": "stream",
     "text": [
      "Even number\n"
     ]
    }
   ],
   "source": [
    "x = 6\n",
    "\n",
    "r = x % 2 \n",
    "\n",
    "if r == 0:\n",
    "    print('Even number')\n",
    "else:\n",
    "    print('odd number')"
   ]
  },
  {
   "cell_type": "code",
   "execution_count": 17,
   "id": "0aca9a40-5224-4c3b-8738-8c61d69bad52",
   "metadata": {},
   "outputs": [
    {
     "name": "stdout",
     "output_type": "stream",
     "text": [
      "Even number\n",
      "odd number\n"
     ]
    }
   ],
   "source": [
    "x = 6\n",
    "r = x % 2 \n",
    "\n",
    "if r == 0:\n",
    "    print('Even number')\n",
    "print('odd number')"
   ]
  },
  {
   "cell_type": "code",
   "execution_count": 18,
   "id": "cf5527d9-1641-4cca-958c-c2d4f7314c9d",
   "metadata": {},
   "outputs": [
    {
     "name": "stdin",
     "output_type": "stream",
     "text": [
      " 6\n"
     ]
    },
    {
     "name": "stdout",
     "output_type": "stream",
     "text": [
      "even\n"
     ]
    }
   ],
   "source": [
    "n=int(input())\n",
    "if n%2==0:\n",
    "    print('even')\n",
    "else:\n",
    "    print('odd')"
   ]
  },
  {
   "cell_type": "code",
   "execution_count": 19,
   "id": "ca3d22ab-cb80-487f-9e5c-e8d192290993",
   "metadata": {},
   "outputs": [
    {
     "name": "stdout",
     "output_type": "stream",
     "text": [
      "Even number\n"
     ]
    }
   ],
   "source": [
    "x = 4\n",
    "r = x % 2 \n",
    "\n",
    "if r == 0:\n",
    "    print('Even number')\n",
    "else:\n",
    "    print('odd number')"
   ]
  },
  {
   "cell_type": "code",
   "execution_count": 20,
   "id": "485fba72-6f36-4202-80f3-4bffa0bdbca1",
   "metadata": {},
   "outputs": [
    {
     "name": "stdout",
     "output_type": "stream",
     "text": [
      "odd number\n"
     ]
    }
   ],
   "source": [
    "x = 5\n",
    "r = x % 2 \n",
    "\n",
    "if r == 0:    print('Even number')\n",
    "else:     print('odd number')"
   ]
  },
  {
   "cell_type": "code",
   "execution_count": 21,
   "id": "78f98f69-9e33-46a6-aa4f-1ee277c884b5",
   "metadata": {},
   "outputs": [
    {
     "name": "stdout",
     "output_type": "stream",
     "text": [
      "Even number\n"
     ]
    }
   ],
   "source": [
    "x = 10\n",
    "r = x % 2 \n",
    "\n",
    "if r == 0:\n",
    "    print('Even number')\n",
    "if r == 1:\n",
    "    print('odd number')"
   ]
  },
  {
   "cell_type": "code",
   "execution_count": 22,
   "id": "95101275-8f2e-441f-b7f1-9be1979e5017",
   "metadata": {},
   "outputs": [
    {
     "name": "stdout",
     "output_type": "stream",
     "text": [
      "odd number\n"
     ]
    }
   ],
   "source": [
    "x = 9\n",
    "r = x % 2 \n",
    "\n",
    "if r == 0:\n",
    "    print('Even number')\n",
    "    \n",
    "if r != 0:\n",
    "    print('odd number')"
   ]
  },
  {
   "cell_type": "code",
   "execution_count": 24,
   "id": "1eaa7143-7e94-45e7-b182-9b70b26a7b35",
   "metadata": {},
   "outputs": [
    {
     "name": "stdout",
     "output_type": "stream",
     "text": [
      "data sciencedata sciencedata sciencedata sciencedata sciencedata sciencedata sciencedata sciencedata sciencedata sciencedata sciencedata sciencedata sciencedata sciencedata sciencedata sciencedata sciencedata sciencedata sciencedata sciencedata sciencedata sciencedata sciencedata sciencedata sciencedata sciencedata sciencedata sciencedata sciencedata sciencedata sciencedata sciencedata sciencedata sciencedata sciencedata sciencedata sciencedata sciencedata sciencedata sciencedata sciencedata sciencedata sciencedata sciencedata sciencedata sciencedata sciencedata sciencedata sciencedata sciencedata sciencedata sciencedata sciencedata sciencedata sciencedata sciencedata sciencedata sciencedata sciencedata sciencedata sciencedata sciencedata sciencedata sciencedata sciencedata sciencedata sciencedata sciencedata sciencedata sciencedata sciencedata sciencedata sciencedata sciencedata sciencedata sciencedata sciencedata sciencedata sciencedata sciencedata sciencedata sciencedata sciencedata sciencedata sciencedata sciencedata sciencedata sciencedata sciencedata sciencedata sciencedata sciencedata sciencedata sciencedata sciencedata sciencedata sciencedata sciencedata sciencedata science\n"
     ]
    }
   ],
   "source": [
    "s='data science'\n",
    "print(s*100)"
   ]
  },
  {
   "cell_type": "markdown",
   "id": "21a2c109-b115-43b3-b6dc-d3368037df32",
   "metadata": {},
   "source": [
    "Nested if"
   ]
  },
  {
   "cell_type": "code",
   "execution_count": 23,
   "id": "644ae9de-bc3b-48a8-94c2-43cd22295d99",
   "metadata": {},
   "outputs": [
    {
     "name": "stdout",
     "output_type": "stream",
     "text": [
      "Odd Number\n"
     ]
    }
   ],
   "source": [
    "x = 3\n",
    "r = x % 2\n",
    "\n",
    "if r == 0:\n",
    "    print('Even number')\n",
    "    if x>5:\n",
    "        print('greater number')\n",
    "  \n",
    "else:\n",
    "    print('Odd Number')"
   ]
  },
  {
   "cell_type": "code",
   "execution_count": 25,
   "id": "e9e2730b-73d4-4aec-8dd3-aff52c1ae16f",
   "metadata": {},
   "outputs": [
    {
     "name": "stdout",
     "output_type": "stream",
     "text": [
      "Even number\n",
      "greater number\n"
     ]
    }
   ],
   "source": [
    "x = 6\n",
    "r = x % 2\n",
    "\n",
    "if r == 0:\n",
    "    print('Even number')\n",
    "    \n",
    "    if x>5:\n",
    "        print('greater number')\n",
    "    else:\n",
    "        print('smaller number')\n",
    "  \n",
    "else:\n",
    "    print('Odd Number')"
   ]
  },
  {
   "cell_type": "code",
   "execution_count": 26,
   "id": "1fef7ff1-862b-45c1-9919-417b261fe0f9",
   "metadata": {},
   "outputs": [
    {
     "name": "stdout",
     "output_type": "stream",
     "text": [
      "four\n"
     ]
    }
   ],
   "source": [
    "x = 4\n",
    "\n",
    "if x == 1:\n",
    "    print('one')\n",
    "if x == 2:\n",
    "    print('Two')\n",
    "if x == 3:\n",
    "    print('Three')\n",
    "if x == 4:\n",
    "    print('four')"
   ]
  },
  {
   "cell_type": "code",
   "execution_count": 27,
   "id": "f0f0dc44-9ed8-4f8f-9407-5d8af3730f66",
   "metadata": {},
   "outputs": [
    {
     "name": "stdout",
     "output_type": "stream",
     "text": [
      "Two\n"
     ]
    }
   ],
   "source": [
    "\n",
    "x = 2\n",
    "\n",
    "if x == 1:\n",
    "    print('one')\n",
    "elif x == 2:\n",
    "    print('Two')\n",
    "elif x == 3:\n",
    "    print('Three')\n",
    "elif x == 4:\n",
    "    print('four')\n"
   ]
  },
  {
   "cell_type": "code",
   "execution_count": 28,
   "id": "26d0adde-bfe1-437a-a567-4e4fdf3b5e33",
   "metadata": {},
   "outputs": [],
   "source": [
    "x = 10\n",
    "\n",
    "if x == 1:\n",
    "    print('one')\n",
    "elif x == 2:\n",
    "    print('Two')\n",
    "elif x == 3:\n",
    "    print('Three')\n",
    "elif x == 4:\n",
    "    print('four')"
   ]
  },
  {
   "cell_type": "code",
   "execution_count": 29,
   "id": "133f8ac1-8cf4-4899-88e2-2c521d80e11b",
   "metadata": {},
   "outputs": [
    {
     "name": "stdout",
     "output_type": "stream",
     "text": [
      "number not found\n"
     ]
    }
   ],
   "source": [
    "x = 10\n",
    "\n",
    "if x == 1:\n",
    "    print('one')\n",
    "    \n",
    "elif x == 2:\n",
    "    print('Two')\n",
    "elif x == 3:\n",
    "    print('Three')\n",
    "elif x == 4:\n",
    "    print('four')\n",
    "\n",
    "else:\n",
    "    print('number not found')"
   ]
  },
  {
   "cell_type": "code",
   "execution_count": 30,
   "id": "a231d813-b39c-43be-8577-20b2a0785f90",
   "metadata": {},
   "outputs": [
    {
     "name": "stdin",
     "output_type": "stream",
     "text": [
      "Enter a number:  6\n"
     ]
    },
    {
     "name": "stdout",
     "output_type": "stream",
     "text": [
      "Positive\n"
     ]
    }
   ],
   "source": [
    "num = int(input(\"Enter a number: \"))\n",
    "\n",
    "if num > 0:\n",
    " print(\"Positive\")\n",
    "elif num < 0:\n",
    " print(\"Negative\")\n",
    "else:\n",
    " print(\"Zero\")"
   ]
  },
  {
   "cell_type": "code",
   "execution_count": 31,
   "id": "a11d4269-a739-4864-8bf6-d4ba28348510",
   "metadata": {},
   "outputs": [
    {
     "name": "stdin",
     "output_type": "stream",
     "text": [
      "Enter a number:  0\n"
     ]
    },
    {
     "name": "stdout",
     "output_type": "stream",
     "text": [
      "Zero\n"
     ]
    }
   ],
   "source": [
    "num = int(input(\"Enter a number: \"))\n",
    "\n",
    "if num > 0:\n",
    " print(\"Positive\")\n",
    "elif num < 0:\n",
    " print(\"Negative\")\n",
    "else:\n",
    " print(\"Zero\")"
   ]
  },
  {
   "cell_type": "code",
   "execution_count": 32,
   "id": "52fbf9db-0d7d-40c0-8b24-55cb851504c6",
   "metadata": {},
   "outputs": [
    {
     "name": "stdin",
     "output_type": "stream",
     "text": [
      "Enter a number:  -4\n"
     ]
    },
    {
     "name": "stdout",
     "output_type": "stream",
     "text": [
      "Negative\n"
     ]
    }
   ],
   "source": [
    "num = int(input(\"Enter a number: \"))\n",
    "\n",
    "if num > 0:\n",
    " print(\"Positive\")\n",
    "elif num < 0:\n",
    " print(\"Negative\")\n",
    "else:\n",
    " print(\"Zero\")"
   ]
  },
  {
   "cell_type": "markdown",
   "id": "b57d6309-7519-4a62-88dd-c9e79ef0797b",
   "metadata": {},
   "source": [
    "FOR LOOP"
   ]
  },
  {
   "cell_type": "code",
   "execution_count": 34,
   "id": "11bafda5-f59e-4bfe-8837-3beaa57f2814",
   "metadata": {},
   "outputs": [
    {
     "name": "stdout",
     "output_type": "stream",
     "text": [
      "a is greater\n"
     ]
    }
   ],
   "source": [
    "a=30\n",
    "b=20\n",
    "if a>b:\n",
    "    print(\"a is greater\")"
   ]
  },
  {
   "cell_type": "code",
   "execution_count": 35,
   "id": "adc3b9e7-5a83-4bcf-ac56-75c573946198",
   "metadata": {},
   "outputs": [
    {
     "name": "stdout",
     "output_type": "stream",
     "text": [
      "data science\n",
      "data science\n",
      "data science\n",
      "data science\n",
      "data science\n"
     ]
    }
   ],
   "source": [
    "i = 1          # initializing\n",
    "\n",
    "while i<=5:    # condition\n",
    "    print('data science')\n",
    "    i = i + 1  # increment"
   ]
  },
  {
   "cell_type": "code",
   "execution_count": 36,
   "id": "b41f0439-23c7-47d3-835c-6c1e3d7ffd70",
   "metadata": {},
   "outputs": [
    {
     "name": "stdout",
     "output_type": "stream",
     "text": [
      "data science\n",
      "data science\n",
      "data science\n",
      "data science\n",
      "data science\n"
     ]
    }
   ],
   "source": [
    "i = 5          # initializing\n",
    "\n",
    "while i>=1:    # condition\n",
    "    print('data science')\n",
    "    i = i - 1  # decrement"
   ]
  },
  {
   "cell_type": "code",
   "execution_count": 37,
   "id": "4d24aa05-8927-40be-b292-6b59cd005915",
   "metadata": {},
   "outputs": [
    {
     "name": "stdout",
     "output_type": "stream",
     "text": [
      "data science :  1\n",
      "data science :  2\n",
      "data science :  3\n",
      "data science :  4\n",
      "data science :  5\n"
     ]
    }
   ],
   "source": [
    "i = 1         # initializing\n",
    "while i<=5:    # condition\n",
    "    print('data science : ', i)\n",
    "    i = i + 1  # increment"
   ]
  },
  {
   "cell_type": "code",
   "execution_count": 39,
   "id": "cfb3b753-2b65-4667-8a19-25df0ee0ec30",
   "metadata": {},
   "outputs": [
    {
     "name": "stdout",
     "output_type": "stream",
     "text": [
      "data science :  5\n",
      "data science :  4\n",
      "data science :  3\n",
      "data science :  2\n",
      "data science :  1\n"
     ]
    }
   ],
   "source": [
    "i = 5       # initializing\n",
    "while i>=1:    # condition\n",
    "    print('data science : ', i)\n",
    "    i = i - 1  # increment"
   ]
  },
  {
   "cell_type": "code",
   "execution_count": 40,
   "id": "9ddff15c-6dd2-4b8c-a631-c836c1d357a8",
   "metadata": {},
   "outputs": [
    {
     "name": "stdout",
     "output_type": "stream",
     "text": [
      "data science\n",
      "technology\n",
      "technology\n",
      "technology\n",
      "technology\n",
      "\n",
      "data science\n",
      "technology\n",
      "technology\n",
      "technology\n",
      "technology\n",
      "\n",
      "data science\n",
      "technology\n",
      "technology\n",
      "technology\n",
      "technology\n",
      "\n",
      "data science\n",
      "technology\n",
      "technology\n",
      "technology\n",
      "technology\n",
      "\n",
      "data science\n",
      "technology\n",
      "technology\n",
      "technology\n",
      "technology\n",
      "\n"
     ]
    }
   ],
   "source": [
    "i = 1\n",
    "\n",
    "while i<=5:\n",
    "    print('data science') # when we mention end then new line will not create\n",
    "    j = 1\n",
    "    while j<=4:\n",
    "        print('technology')\n",
    "        j = j + 1\n",
    "        \n",
    "    i = i + 1\n",
    "    print()"
   ]
  },
  {
   "cell_type": "code",
   "execution_count": 41,
   "id": "2e0c8ee6-dfd3-4e63-a90c-e24cd9b28ef7",
   "metadata": {},
   "outputs": [
    {
     "name": "stdout",
     "output_type": "stream",
     "text": [
      " datascience technology technology technology technology\n",
      " datascience technology technology technology technology\n",
      " datascience technology technology technology technology\n",
      " datascience technology technology technology technology\n",
      " datascience technology technology technology technology\n"
     ]
    }
   ],
   "source": [
    "i = 1\n",
    "while i<=5:\n",
    "    print(' datascience', end = \"\") # when we mention end then new line will not create\n",
    "    j = 1\n",
    "    while j<=4:\n",
    "        print(' technology', end=\"\")\n",
    "        j = j + 1\n",
    "        \n",
    "    i = i + 1\n",
    "    print()"
   ]
  },
  {
   "cell_type": "code",
   "execution_count": 42,
   "id": "8d7087bf-7cea-4e27-a611-ae591d136378",
   "metadata": {},
   "outputs": [
    {
     "name": "stdout",
     "output_type": "stream",
     "text": [
      "0 1 2 \n",
      "0 2 4 \n"
     ]
    }
   ],
   "source": [
    "i = 1\n",
    "\n",
    "while i <= 2 :\n",
    "    j = 0\n",
    "    while  j <= 2 :\n",
    "        print(i*j, end=\" \")\n",
    "        j += 1\n",
    "    print()\n",
    "    i += 1"
   ]
  },
  {
   "cell_type": "code",
   "execution_count": 43,
   "id": "afb7f4e1-21f5-4379-86f2-ed00229dd7e4",
   "metadata": {},
   "outputs": [
    {
     "name": "stdout",
     "output_type": "stream",
     "text": [
      "0 1 2 3 \n",
      "0 2 4 6 \n",
      "0 3 6 9 \n",
      "0 4 8 12 \n"
     ]
    }
   ],
   "source": [
    "# lets use while loop usig some numbers\n",
    "i = 1\n",
    "while i <= 4 :\n",
    "    j = 0\n",
    "    while  j <= 3 :\n",
    "        print(i*j, end=\" \")\n",
    "        j += 1\n",
    "    print()\n",
    "    i += 1"
   ]
  },
  {
   "cell_type": "code",
   "execution_count": 44,
   "id": "561d9ab2-b16a-496d-95b8-09e7c2d92c26",
   "metadata": {},
   "outputs": [
    {
     "name": "stdout",
     "output_type": "stream",
     "text": [
      "n\n",
      "i\n",
      "t\n"
     ]
    }
   ],
   "source": [
    "name='nit'\n",
    "for i in name:\n",
    "    print(i)"
   ]
  },
  {
   "cell_type": "code",
   "execution_count": 45,
   "id": "d3c9ce91-673d-4091-b580-3a6f56962a8f",
   "metadata": {},
   "outputs": [
    {
     "name": "stdout",
     "output_type": "stream",
     "text": [
      "1\n",
      "3.5\n",
      "hallo\n"
     ]
    }
   ],
   "source": [
    "name1 = [1,3.5,'hallo'] #i want print the value individualy\n",
    "\n",
    "for i in name1:\n",
    "    print(i)"
   ]
  },
  {
   "cell_type": "code",
   "execution_count": 46,
   "id": "83f0879b-60f9-4a7c-a464-9f0d069c5c22",
   "metadata": {},
   "outputs": [
    {
     "name": "stdout",
     "output_type": "stream",
     "text": [
      "2\n",
      "3\n",
      "7.8\n",
      "hi\n"
     ]
    }
   ],
   "source": [
    "for i in [2, 3, 7.8, 'hi']:\n",
    "    print(i)"
   ]
  },
  {
   "cell_type": "code",
   "execution_count": 47,
   "id": "7fbbdda7-435d-4ea4-8804-296b03c26e3f",
   "metadata": {},
   "outputs": [
    {
     "data": {
      "text/plain": [
       "range(0, 5)"
      ]
     },
     "execution_count": 47,
     "metadata": {},
     "output_type": "execute_result"
    }
   ],
   "source": [
    "range(5)"
   ]
  },
  {
   "cell_type": "code",
   "execution_count": 48,
   "id": "12aad159-4b84-41cf-916a-e70425ea70a9",
   "metadata": {},
   "outputs": [
    {
     "name": "stdout",
     "output_type": "stream",
     "text": [
      "2\n",
      "3\n",
      "4\n"
     ]
    }
   ],
   "source": [
    "for i in range(2,5):\n",
    "    print(i)"
   ]
  },
  {
   "cell_type": "code",
   "execution_count": 49,
   "id": "d3277f6a-a1b3-499b-a9c3-2d708c4dfdab",
   "metadata": {},
   "outputs": [
    {
     "name": "stdout",
     "output_type": "stream",
     "text": [
      "1\n",
      "4\n",
      "7\n"
     ]
    }
   ],
   "source": [
    "for i in range(1,10,3):\n",
    "    print(i)"
   ]
  },
  {
   "cell_type": "code",
   "execution_count": 50,
   "id": "43485f19-6bc2-443d-bdaa-bb57be5cc49a",
   "metadata": {},
   "outputs": [
    {
     "name": "stdout",
     "output_type": "stream",
     "text": [
      "1\n",
      "2\n",
      "3\n",
      "4\n",
      "5\n",
      "6\n",
      "7\n",
      "8\n",
      "9\n",
      "10\n",
      "11\n",
      "12\n",
      "13\n",
      "14\n",
      "15\n",
      "16\n",
      "17\n",
      "18\n",
      "19\n",
      "20\n"
     ]
    }
   ],
   "source": [
    "for i in range(1,21):\n",
    "    print(i)"
   ]
  },
  {
   "cell_type": "code",
   "execution_count": 53,
   "id": "983fb01a-717f-4dc3-9d8c-3865d10f4498",
   "metadata": {},
   "outputs": [
    {
     "name": "stdout",
     "output_type": "stream",
     "text": [
      "1\n",
      "2\n",
      "3\n",
      "4\n",
      "6\n",
      "7\n",
      "8\n",
      "9\n",
      "11\n",
      "12\n",
      "13\n",
      "14\n",
      "16\n",
      "17\n",
      "18\n",
      "19\n",
      "21\n",
      "22\n",
      "23\n",
      "24\n",
      "26\n",
      "27\n",
      "28\n",
      "29\n",
      "31\n",
      "32\n",
      "33\n",
      "34\n",
      "36\n",
      "37\n",
      "38\n",
      "39\n",
      "41\n",
      "42\n",
      "43\n",
      "44\n",
      "46\n",
      "47\n",
      "48\n",
      "49\n"
     ]
    }
   ],
   "source": [
    "for i in range(1,51):\n",
    "    if i %5!=0:\n",
    "        print(i)"
   ]
  },
  {
   "cell_type": "code",
   "execution_count": 54,
   "id": "f1999368-f237-47a7-9334-2a0a2f5b4f56",
   "metadata": {},
   "outputs": [
    {
     "name": "stdin",
     "output_type": "stream",
     "text": [
      " 7\n"
     ]
    },
    {
     "name": "stdout",
     "output_type": "stream",
     "text": [
      "chocolate\n",
      "chocolate\n",
      "chocolate\n",
      "chocolate\n",
      "chocolate\n",
      "chocolate\n",
      "chocolate\n"
     ]
    }
   ],
   "source": [
    "x=int(input())\n",
    "i=1\n",
    "while i<=x:\n",
    "    print('chocolate')\n",
    "    i+=1"
   ]
  },
  {
   "cell_type": "code",
   "execution_count": 55,
   "id": "7c2e8311-1b34-4487-8612-fc0ecaea3caa",
   "metadata": {},
   "outputs": [
    {
     "name": "stdin",
     "output_type": "stream",
     "text": [
      "How many choclets you want:? 6\n"
     ]
    },
    {
     "name": "stdout",
     "output_type": "stream",
     "text": [
      "choclet\n",
      "choclet\n",
      "choclet\n",
      "choclet\n",
      "choclet\n",
      "choclet\n"
     ]
    }
   ],
   "source": [
    "ava = 5 # the machine has only 5 choclet \n",
    "\n",
    "x = int(input('How many choclets you want:?'))\n",
    "\n",
    "i = 1\n",
    "while i<=x:\n",
    "    print('choclet')\n",
    "    i += 1   "
   ]
  },
  {
   "cell_type": "code",
   "execution_count": 56,
   "id": "7d7cfeb9-adc5-4f1d-8e04-6e920f9ae0f3",
   "metadata": {},
   "outputs": [
    {
     "name": "stdin",
     "output_type": "stream",
     "text": [
      "How many choclets user want:? 7\n"
     ]
    },
    {
     "name": "stdout",
     "output_type": "stream",
     "text": [
      "choclet\n",
      "choclet\n",
      "choclet\n",
      "choclet\n",
      "choclet\n",
      "bye for now\n"
     ]
    }
   ],
   "source": [
    "available_choclet = 5 # the machine has only 10 candis \n",
    "\n",
    "x = int(input('How many choclets user want:?'))\n",
    "\n",
    "i = 1\n",
    "while i<=x:\n",
    "    \n",
    "    if i>available_choclet: # we stop the execution but which code execution not entire code , i want to come out of while loop \n",
    "        break # break is statement | means jump out of the loop\n",
    "    print('choclet')\n",
    "    i += 1   \n",
    "    \n",
    "print('bye for now')"
   ]
  },
  {
   "cell_type": "code",
   "execution_count": 57,
   "id": "906b75c5-99a5-47c7-a0c8-4467df3e8c92",
   "metadata": {},
   "outputs": [
    {
     "name": "stdout",
     "output_type": "stream",
     "text": [
      "1\n",
      "2\n",
      "3\n",
      "4\n",
      "5\n",
      "6\n",
      "7\n",
      "8\n",
      "9\n",
      "10\n"
     ]
    }
   ],
   "source": [
    "for i in range(1,11):\n",
    "    print(i)"
   ]
  },
  {
   "cell_type": "code",
   "execution_count": 58,
   "id": "568d10fe-11ef-47f4-8063-7fca4beb8d66",
   "metadata": {},
   "outputs": [
    {
     "name": "stdin",
     "output_type": "stream",
     "text": [
      "How many choclets you want:? 9\n"
     ]
    },
    {
     "name": "stdout",
     "output_type": "stream",
     "text": [
      "choclet\n",
      "choclet\n",
      "choclet\n",
      "choclet\n",
      "choclet\n",
      "out of stock\n",
      "bye for now\n"
     ]
    }
   ],
   "source": [
    "available_choclet = 5 # the machine has only 10 candis \n",
    "\n",
    "x = int(input('How many choclets you want:?'))\n",
    "\n",
    "i = 1\n",
    "while i<=x:\n",
    "    \n",
    "    if i>available_choclet: # we stop the execution but which code execution not entire code , i want to come out of while loop \n",
    "        print('out of stock')\n",
    "        break # break is statement | means jump out of the loop\n",
    "    print('choclet')\n",
    "    i += 1   \n",
    "    \n",
    "print('bye for now')"
   ]
  },
  {
   "cell_type": "code",
   "execution_count": 59,
   "id": "e0cee700-baff-45ce-a6fc-9e1a01ea675d",
   "metadata": {},
   "outputs": [
    {
     "name": "stdout",
     "output_type": "stream",
     "text": [
      "1\n",
      "2\n",
      "3\n",
      "4\n",
      "5\n"
     ]
    }
   ],
   "source": [
    "for i in range(1,11):\n",
    "    if i == 6:\n",
    "       break  #will break the execution\n",
    "    print(i)"
   ]
  },
  {
   "cell_type": "code",
   "execution_count": 60,
   "id": "68eff565-17fc-401a-a2a7-da83052da869",
   "metadata": {},
   "outputs": [
    {
     "name": "stdout",
     "output_type": "stream",
     "text": [
      "1\n",
      "2\n",
      "4\n",
      "5\n",
      "6\n",
      "7\n",
      "8\n",
      "9\n",
      "10\n"
     ]
    }
   ],
   "source": [
    "for i in range(1,11):\n",
    "    if i == 3:\n",
    "        continue  #will break the current execution it just skip specified one\n",
    "    print(i)"
   ]
  },
  {
   "cell_type": "code",
   "execution_count": 61,
   "id": "2b016a9e-6011-4198-b23f-85f4c2d619d4",
   "metadata": {},
   "outputs": [
    {
     "name": "stdout",
     "output_type": "stream",
     "text": [
      "hello : 1\n",
      "hello : 2\n",
      "hello : 3\n",
      "hello : 4\n",
      "hello : 5\n",
      "hello : 7\n",
      "hello : 8\n",
      "hello : 9\n",
      "hello : 10\n"
     ]
    }
   ],
   "source": [
    "for i in range(1,11):\n",
    "    if i == 6:\n",
    "        continue  \n",
    "    print('hello :',i)    "
   ]
  },
  {
   "cell_type": "code",
   "execution_count": 62,
   "id": "949c1225-24a6-43b6-b118-b05192b8389a",
   "metadata": {},
   "outputs": [],
   "source": [
    "for i in range(1,11):\n",
    "    pass"
   ]
  },
  {
   "cell_type": "code",
   "execution_count": 63,
   "id": "4cbcc0a8-e21c-4787-b573-44ffdb2fecb7",
   "metadata": {},
   "outputs": [
    {
     "name": "stdout",
     "output_type": "stream",
     "text": [
      "1\n",
      "2\n",
      "4\n",
      "5\n",
      "7\n",
      "8\n",
      "10\n",
      "11\n",
      "13\n",
      "14\n",
      "16\n",
      "17\n",
      "19\n",
      "20\n",
      "22\n",
      "23\n",
      "25\n",
      "26\n",
      "28\n",
      "29\n",
      "31\n",
      "32\n",
      "34\n",
      "35\n",
      "37\n",
      "38\n",
      "40\n",
      "41\n",
      "43\n",
      "44\n",
      "46\n",
      "47\n",
      "49\n",
      "50\n",
      "end\n"
     ]
    }
   ],
   "source": [
    "for i in range(1,51):\n",
    "    \n",
    "    if i%3 == 0:\n",
    "        continue\n",
    "    print(i)\n",
    "print('end')    "
   ]
  },
  {
   "cell_type": "code",
   "execution_count": 64,
   "id": "1ea0e292-834c-42bf-a4a1-4b401634ffbc",
   "metadata": {},
   "outputs": [
    {
     "name": "stdout",
     "output_type": "stream",
     "text": [
      "1\n",
      "2\n",
      "4\n",
      "7\n",
      "8\n",
      "11\n",
      "13\n",
      "14\n",
      "16\n",
      "17\n",
      "19\n",
      "22\n",
      "23\n",
      "26\n",
      "28\n",
      "29\n",
      "31\n",
      "32\n",
      "34\n",
      "37\n",
      "38\n",
      "41\n",
      "43\n",
      "44\n",
      "46\n",
      "47\n",
      "49\n"
     ]
    }
   ],
   "source": [
    "for i in range(1,51):\n",
    "    \n",
    "    if i%3 == 0 or i%5 == 0:\n",
    "        continue\n",
    "    print(i)"
   ]
  },
  {
   "cell_type": "code",
   "execution_count": 65,
   "id": "d19ea32d-1fa3-475d-9020-5d5b9b8a0191",
   "metadata": {},
   "outputs": [
    {
     "name": "stdout",
     "output_type": "stream",
     "text": [
      "1\n",
      "2\n",
      "4\n",
      "7\n",
      "8\n",
      "11\n",
      "13\n",
      "14\n",
      "16\n",
      "17\n",
      "19\n",
      "22\n",
      "23\n",
      "26\n",
      "28\n",
      "29\n",
      "31\n",
      "32\n",
      "34\n",
      "37\n",
      "38\n",
      "41\n",
      "43\n",
      "44\n",
      "46\n",
      "47\n",
      "49\n",
      "end\n"
     ]
    }
   ],
   "source": [
    "for i in range(1,50):\n",
    "    if i%3 == 0 or i%5 == 0:\n",
    "        continue\n",
    "    print(i)\n",
    "print('end') "
   ]
  },
  {
   "cell_type": "code",
   "execution_count": 67,
   "id": "c92d567e-a9c9-4a4c-8e23-a51e3ddf9f85",
   "metadata": {},
   "outputs": [
    {
     "name": "stdout",
     "output_type": "stream",
     "text": [
      "1\n",
      "3\n",
      "5\n",
      "7\n",
      "9\n",
      "11\n",
      "13\n",
      "15\n",
      "17\n",
      "19\n",
      "21\n",
      "23\n",
      "25\n",
      "27\n",
      "29\n",
      "31\n",
      "33\n",
      "35\n",
      "37\n",
      "39\n",
      "41\n",
      "43\n",
      "45\n",
      "47\n",
      "49\n",
      "bye\n"
     ]
    }
   ],
   "source": [
    "for i in range(1,51):\n",
    "    \n",
    "    if (i%2 == 0):\n",
    "        \n",
    "        continue\n",
    "    else:\n",
    "        print(i)\n",
    "print('bye')"
   ]
  },
  {
   "cell_type": "code",
   "execution_count": 68,
   "id": "ae0167bd-a82f-4b5d-89b9-62ed99e19f1d",
   "metadata": {},
   "outputs": [
    {
     "name": "stdout",
     "output_type": "stream",
     "text": [
      "# # # #\n",
      "# # # #\n",
      "# # # #\n",
      "# # # #\n"
     ]
    }
   ],
   "source": [
    "print('# # # #')\n",
    "print('# # # #') #time consuming\n",
    "print('# # # #')\n",
    "print('# # # #')"
   ]
  },
  {
   "cell_type": "code",
   "execution_count": 69,
   "id": "49b5edd1-a6ea-42f2-beac-643f5b51c4d7",
   "metadata": {},
   "outputs": [
    {
     "name": "stdout",
     "output_type": "stream",
     "text": [
      "# # # # \n",
      "# # # # \n",
      "# # # # \n",
      "# # # # \n"
     ]
    }
   ],
   "source": [
    "for i in range(1,5):\n",
    "    i=i+1\n",
    "    print('# # # # ')"
   ]
  },
  {
   "cell_type": "code",
   "execution_count": 70,
   "id": "d184f892-561e-477e-94ef-cb8ce4685ed8",
   "metadata": {},
   "outputs": [
    {
     "name": "stdout",
     "output_type": "stream",
     "text": [
      "# # # #\n",
      "# # # #\n",
      "# # # #\n",
      "# # # #\n"
     ]
    }
   ],
   "source": [
    "for i in range(1,5):\n",
    "    if i<=5:\n",
    "        print('# # # #')"
   ]
  },
  {
   "cell_type": "code",
   "execution_count": 71,
   "id": "0a40e1a3-afa0-46e2-bb77-39ffb6f6a3ee",
   "metadata": {},
   "outputs": [
    {
     "name": "stdout",
     "output_type": "stream",
     "text": [
      "#\n",
      "#\n",
      "#\n",
      "#\n"
     ]
    }
   ],
   "source": [
    "for j in range(4):\n",
    "    print('#')"
   ]
  },
  {
   "cell_type": "code",
   "execution_count": 72,
   "id": "36f43b61-1dbe-4bac-ad46-4c4f7eeeba7e",
   "metadata": {},
   "outputs": [
    {
     "name": "stdout",
     "output_type": "stream",
     "text": [
      "# # # #\n",
      "# # # #\n",
      "# # # #\n",
      "# # # #\n"
     ]
    }
   ],
   "source": [
    "for j in range(4):\n",
    "    print('# # # #')"
   ]
  },
  {
   "cell_type": "code",
   "execution_count": 73,
   "id": "60cbee4b-1436-4a44-aa06-0e2bb61b3c09",
   "metadata": {},
   "outputs": [
    {
     "name": "stdout",
     "output_type": "stream",
     "text": [
      "# # # # "
     ]
    }
   ],
   "source": [
    "for j in range(4):\n",
    "    print('#', end = \" \")"
   ]
  },
  {
   "cell_type": "code",
   "execution_count": 74,
   "id": "17fa5f56-93a2-44d6-ad1c-c01e1b2cee97",
   "metadata": {},
   "outputs": [
    {
     "name": "stdout",
     "output_type": "stream",
     "text": [
      "# # # # # # # # "
     ]
    }
   ],
   "source": [
    "for j in range(4):\n",
    "    print('#', end=\" \")\n",
    "\n",
    "for j in range(4):\n",
    "    print('#', end=\" \")\n"
   ]
  },
  {
   "cell_type": "code",
   "execution_count": 75,
   "id": "457465ce-6cc1-4143-9242-e92fad3f1ec5",
   "metadata": {},
   "outputs": [
    {
     "name": "stdout",
     "output_type": "stream",
     "text": [
      "# # # # \n",
      "# # # # "
     ]
    }
   ],
   "source": [
    "for j in range(4):\n",
    "    print('#', end=\" \")\n",
    "    \n",
    "print()\n",
    "    \n",
    "for j in range(4):\n",
    "    print('#', end=\" \")"
   ]
  },
  {
   "cell_type": "code",
   "execution_count": 77,
   "id": "5af4b38b-cbed-43bb-897d-dba0c6bbdb5f",
   "metadata": {},
   "outputs": [
    {
     "name": "stdout",
     "output_type": "stream",
     "text": [
      "#  #  #  #  \n",
      "#  #  #  #  \n",
      "#  #  #  #  \n",
      "#  #  #  #  "
     ]
    }
   ],
   "source": [
    "for j in range(4):\n",
    "    print('#', end=\"  \")\n",
    "    \n",
    "print()\n",
    "\n",
    "for j in range(4):\n",
    "    print('#', end=\"  \")\n",
    "\n",
    "print()\n",
    "\n",
    "for j in range(4):\n",
    "    print('#', end=\"  \")\n",
    "    \n",
    "print()\n",
    "\n",
    "for j in range(4):\n",
    "    print('#', end=\"  \")"
   ]
  },
  {
   "cell_type": "code",
   "execution_count": 78,
   "id": "2fd8660d-067a-4bd7-a703-db98246a36bb",
   "metadata": {},
   "outputs": [
    {
     "name": "stdout",
     "output_type": "stream",
     "text": [
      "#  #  #  #  \n",
      "#  #  #  #  \n",
      "#  #  #  #  \n",
      "#  #  #  #  \n"
     ]
    }
   ],
   "source": [
    "for i in range(4):\n",
    "    for j in range(4):\n",
    "        print('#', end=\"  \")\n",
    "    print()"
   ]
  },
  {
   "cell_type": "code",
   "execution_count": 80,
   "id": "9fd1165e-00b3-4559-908f-242cedf4ec91",
   "metadata": {},
   "outputs": [
    {
     "name": "stdout",
     "output_type": "stream",
     "text": [
      "# \n",
      "# # \n",
      "# # # \n",
      "# # # # \n"
     ]
    }
   ],
   "source": [
    "for i in range(1,5):\n",
    "    print(\"# \"*i)"
   ]
  },
  {
   "cell_type": "code",
   "execution_count": 81,
   "id": "564b6d35-c904-4f70-ad86-d5f4932afce5",
   "metadata": {},
   "outputs": [
    {
     "name": "stdout",
     "output_type": "stream",
     "text": [
      "* \n",
      "* * \n",
      "* * * \n",
      "* * * * \n"
     ]
    }
   ],
   "source": [
    "for i in range(1,5):\n",
    "    print(\"* \"*i)"
   ]
  },
  {
   "cell_type": "code",
   "execution_count": 82,
   "id": "63efd8e6-fa99-4bdb-802f-a06932c76b8e",
   "metadata": {},
   "outputs": [
    {
     "name": "stdout",
     "output_type": "stream",
     "text": [
      "i \n",
      "i i \n",
      "i i i \n",
      "i i i i \n"
     ]
    }
   ],
   "source": [
    "for i in range(1,5):\n",
    "    print(\"i \"*i)"
   ]
  },
  {
   "cell_type": "code",
   "execution_count": 83,
   "id": "3f6eecf3-eeec-4116-9094-09660b1b1256",
   "metadata": {},
   "outputs": [
    {
     "name": "stdout",
     "output_type": "stream",
     "text": [
      "# \n",
      "# # \n",
      "# # # \n",
      "# # # # \n"
     ]
    }
   ],
   "source": [
    "for i in range(1,5):\n",
    "    for j in range(4):\n",
    "        if i>j:\n",
    "            print(\"#\",end=\" \")\n",
    "    print()"
   ]
  },
  {
   "cell_type": "code",
   "execution_count": 84,
   "id": "bda8f713-9d6a-441d-8311-32118218720e",
   "metadata": {},
   "outputs": [
    {
     "data": {
      "text/plain": [
       "[0, 1, 2, 3, 4]"
      ]
     },
     "execution_count": 84,
     "metadata": {},
     "output_type": "execute_result"
    }
   ],
   "source": [
    "list(range(5))"
   ]
  },
  {
   "cell_type": "code",
   "execution_count": 85,
   "id": "9b34527e-3224-42ae-a272-522834eab8f4",
   "metadata": {},
   "outputs": [
    {
     "name": "stdout",
     "output_type": "stream",
     "text": [
      "\n",
      "#  \n",
      "#  #  \n",
      "#  #  #  \n"
     ]
    }
   ],
   "source": [
    "for i in range(4):\n",
    "    for j in range(i):\n",
    "        print('#', end=\"  \")\n",
    "    print()"
   ]
  },
  {
   "cell_type": "code",
   "execution_count": 88,
   "id": "19f8a053-71ba-4658-9b8f-b09aebd84f9b",
   "metadata": {},
   "outputs": [
    {
     "name": "stdout",
     "output_type": "stream",
     "text": [
      "#  #  #  #  \n",
      "#  #  #  \n",
      "#  #  \n",
      "#  \n"
     ]
    }
   ],
   "source": [
    "for i in range(4):\n",
    "    for j in range(4-i):\n",
    "        print('#', end=\"  \")\n",
    "    print()"
   ]
  },
  {
   "cell_type": "code",
   "execution_count": 89,
   "id": "e47f9ed4-0daf-4b3b-a45c-dd00a039ec42",
   "metadata": {},
   "outputs": [
    {
     "name": "stdout",
     "output_type": "stream",
     "text": [
      "# # # # \n",
      "# # # \n",
      "# # \n",
      "# \n"
     ]
    }
   ],
   "source": [
    "for i in range(1,5):\n",
    "    print(\"# \"*(5-i))"
   ]
  },
  {
   "cell_type": "code",
   "execution_count": null,
   "id": "d265acd0-c164-4a1a-b3f8-268f4dd8741c",
   "metadata": {},
   "outputs": [],
   "source": []
  }
 ],
 "metadata": {
  "kernelspec": {
   "display_name": "Python 3 (ipykernel)",
   "language": "python",
   "name": "python3"
  },
  "language_info": {
   "codemirror_mode": {
    "name": "ipython",
    "version": 3
   },
   "file_extension": ".py",
   "mimetype": "text/x-python",
   "name": "python",
   "nbconvert_exporter": "python",
   "pygments_lexer": "ipython3",
   "version": "3.12.7"
  }
 },
 "nbformat": 4,
 "nbformat_minor": 5
}
