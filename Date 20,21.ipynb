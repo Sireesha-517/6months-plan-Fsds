{
 "cells": [
  {
   "cell_type": "code",
   "execution_count": 1,
   "id": "ef43a5c7-0e8c-4175-b6c8-5074635025c1",
   "metadata": {},
   "outputs": [],
   "source": [
    "p=20\n",
    "q=20\n",
    "r=20"
   ]
  },
  {
   "cell_type": "code",
   "execution_count": 3,
   "id": "68ee4790-093d-40c3-92b6-cea406283544",
   "metadata": {},
   "outputs": [
    {
     "name": "stdout",
     "output_type": "stream",
     "text": [
      "140726280924184\n",
      "140726280924184\n",
      "140726280924184\n"
     ]
    }
   ],
   "source": [
    "p=q=r=20\n",
    "print(id(p))\n",
    "print(id(q))\n",
    "print(id(r))\n"
   ]
  },
  {
   "cell_type": "code",
   "execution_count": 4,
   "id": "a0e42269-fb99-433a-b03c-a2533c7486c5",
   "metadata": {},
   "outputs": [
    {
     "name": "stdout",
     "output_type": "stream",
     "text": [
      "140726280924184\n",
      "140726280924184\n",
      "140726280924184\n"
     ]
    }
   ],
   "source": [
    "p1,q1,r1=20,25,30\n",
    "print(id(p))\n",
    "print(id(q))\n",
    "print(id(r))\n",
    "\n"
   ]
  },
  {
   "cell_type": "markdown",
   "id": "f148d25f-8030-450c-85c0-bc4a5f05df99",
   "metadata": {},
   "source": [
    "#String"
   ]
  },
  {
   "cell_type": "code",
   "execution_count": 5,
   "id": "6d061715-e483-4010-a92a-18d5856252e8",
   "metadata": {},
   "outputs": [
    {
     "data": {
      "text/plain": [
       "'hello python'"
      ]
     },
     "execution_count": 5,
     "metadata": {},
     "output_type": "execute_result"
    }
   ],
   "source": [
    "s='hello python'\n",
    "s"
   ]
  },
  {
   "cell_type": "code",
   "execution_count": 6,
   "id": "b150dfb0-baeb-47a4-ae3e-ae37532dc569",
   "metadata": {},
   "outputs": [
    {
     "data": {
      "text/plain": [
       "12"
      ]
     },
     "execution_count": 6,
     "metadata": {},
     "output_type": "execute_result"
    }
   ],
   "source": [
    "len(s)"
   ]
  },
  {
   "cell_type": "code",
   "execution_count": 7,
   "id": "d37499a7-b405-4b61-9902-585ab394a66e",
   "metadata": {},
   "outputs": [
    {
     "data": {
      "text/plain": [
       "'t'"
      ]
     },
     "execution_count": 7,
     "metadata": {},
     "output_type": "execute_result"
    }
   ],
   "source": [
    "s[8]"
   ]
  },
  {
   "cell_type": "code",
   "execution_count": 8,
   "id": "4736535a-f45c-403e-be4a-15fe58216971",
   "metadata": {},
   "outputs": [
    {
     "data": {
      "text/plain": [
       "'h'"
      ]
     },
     "execution_count": 8,
     "metadata": {},
     "output_type": "execute_result"
    }
   ],
   "source": [
    "s[0]"
   ]
  },
  {
   "cell_type": "code",
   "execution_count": 9,
   "id": "63d1ef75-f6e9-48f3-b7a3-7b34dcb88f69",
   "metadata": {},
   "outputs": [
    {
     "data": {
      "text/plain": [
       "'n'"
      ]
     },
     "execution_count": 9,
     "metadata": {},
     "output_type": "execute_result"
    }
   ],
   "source": [
    "s[-1]"
   ]
  },
  {
   "cell_type": "markdown",
   "id": "c76f1e53-5bae-4c84-8942-be1464232904",
   "metadata": {},
   "source": [
    "#Slicing"
   ]
  },
  {
   "cell_type": "code",
   "execution_count": 10,
   "id": "8ef5f9fd-5cc9-42d9-a25e-b5ade22958be",
   "metadata": {},
   "outputs": [
    {
     "data": {
      "text/plain": [
       "'HELLO'"
      ]
     },
     "execution_count": 10,
     "metadata": {},
     "output_type": "execute_result"
    }
   ],
   "source": [
    "s='HELLO Python'\n",
    "s[0:5]"
   ]
  },
  {
   "cell_type": "code",
   "execution_count": 11,
   "id": "ff73cc86-dd12-4ffa-8a4b-0af64355cc26",
   "metadata": {},
   "outputs": [
    {
     "data": {
      "text/plain": [
       "'Python'"
      ]
     },
     "execution_count": 11,
     "metadata": {},
     "output_type": "execute_result"
    }
   ],
   "source": [
    "s[6:]"
   ]
  },
  {
   "cell_type": "code",
   "execution_count": 13,
   "id": "c406e3f8-cd63-4676-9931-bd9d8be5a087",
   "metadata": {},
   "outputs": [
    {
     "data": {
      "text/plain": [
       "'Pyt'"
      ]
     },
     "execution_count": 13,
     "metadata": {},
     "output_type": "execute_result"
    }
   ],
   "source": [
    "s[6:9]"
   ]
  },
  {
   "cell_type": "code",
   "execution_count": 14,
   "id": "8220573e-d920-4eb7-b768-cac4a1339af3",
   "metadata": {},
   "outputs": [
    {
     "data": {
      "text/plain": [
       "'ytho'"
      ]
     },
     "execution_count": 14,
     "metadata": {},
     "output_type": "execute_result"
    }
   ],
   "source": [
    "s[-5:-1]"
   ]
  },
  {
   "cell_type": "code",
   "execution_count": 15,
   "id": "8e749e82-0d87-456d-a3cb-841e6f225430",
   "metadata": {},
   "outputs": [
    {
     "data": {
      "text/plain": [
       "'LLO Python'"
      ]
     },
     "execution_count": 15,
     "metadata": {},
     "output_type": "execute_result"
    }
   ],
   "source": [
    "s[2:]"
   ]
  },
  {
   "cell_type": "code",
   "execution_count": 16,
   "id": "fb2cc19f-04ba-4ef4-aa83-7f2db948a84f",
   "metadata": {},
   "outputs": [
    {
     "data": {
      "text/plain": [
       "'HELLO '"
      ]
     },
     "execution_count": 16,
     "metadata": {},
     "output_type": "execute_result"
    }
   ],
   "source": [
    "s[:6]"
   ]
  },
  {
   "cell_type": "code",
   "execution_count": 17,
   "id": "99b9d527-d417-430e-8579-d51c6ec80cd4",
   "metadata": {},
   "outputs": [
    {
     "data": {
      "text/plain": [
       "'nohtyP OLLEH'"
      ]
     },
     "execution_count": 17,
     "metadata": {},
     "output_type": "execute_result"
    }
   ],
   "source": [
    "s[::-1]"
   ]
  },
  {
   "cell_type": "code",
   "execution_count": 18,
   "id": "d76931ed-decd-4575-8b70-0ec13ef5a1e9",
   "metadata": {},
   "outputs": [
    {
     "data": {
      "text/plain": [
       "'LOPt'"
      ]
     },
     "execution_count": 18,
     "metadata": {},
     "output_type": "execute_result"
    }
   ],
   "source": [
    "s[2:10:2]"
   ]
  },
  {
   "cell_type": "code",
   "execution_count": 19,
   "id": "4a5f3a6b-f204-47d2-bffd-b4b52826d6f4",
   "metadata": {},
   "outputs": [
    {
     "data": {
      "text/plain": [
       "'HLPh'"
      ]
     },
     "execution_count": 19,
     "metadata": {},
     "output_type": "execute_result"
    }
   ],
   "source": [
    "s[0:13:3]"
   ]
  },
  {
   "cell_type": "code",
   "execution_count": 20,
   "id": "91a14940-3c67-45f5-b858-179c89af6561",
   "metadata": {},
   "outputs": [
    {
     "data": {
      "text/plain": [
       "'H '"
      ]
     },
     "execution_count": 20,
     "metadata": {},
     "output_type": "execute_result"
    }
   ],
   "source": [
    "s[0:10:5]"
   ]
  },
  {
   "cell_type": "code",
   "execution_count": 21,
   "id": "f5fb6a89-4d28-49b4-ab4a-75e2a7bc6476",
   "metadata": {},
   "outputs": [
    {
     "data": {
      "text/plain": [
       "'nareshit'"
      ]
     },
     "execution_count": 21,
     "metadata": {},
     "output_type": "execute_result"
    }
   ],
   "source": [
    "s1='nareshit'\n",
    "s1[0:10]"
   ]
  },
  {
   "cell_type": "code",
   "execution_count": 32,
   "id": "7e97de07-1cd9-49b1-be31-c6d419ea1880",
   "metadata": {},
   "outputs": [
    {
     "data": {
      "text/plain": [
       "str"
      ]
     },
     "execution_count": 32,
     "metadata": {},
     "output_type": "execute_result"
    }
   ],
   "source": [
    "s=\"7.1\"\n",
    "type(s)"
   ]
  },
  {
   "cell_type": "markdown",
   "id": "d8c52199-ff2e-41ab-ab7f-b4673c7ad80d",
   "metadata": {},
   "source": [
    "#19th,20th -Date type,type casting"
   ]
  },
  {
   "cell_type": "markdown",
   "id": "a646f4eb-38a6-4afa-b04f-48ebc82b2d82",
   "metadata": {},
   "source": [
    "#Complex data type"
   ]
  },
  {
   "cell_type": "code",
   "execution_count": null,
   "id": "cde202f7-443b-40ce-af50-7a3931b50494",
   "metadata": {},
   "outputs": [],
   "source": [
    "z=real+imaginary*1j\n",
    "z=3=4j"
   ]
  },
  {
   "cell_type": "code",
   "execution_count": 1,
   "id": "45deae94-9b76-401d-b39a-00ad3c5a5dc1",
   "metadata": {},
   "outputs": [
    {
     "name": "stdout",
     "output_type": "stream",
     "text": [
      "3.0\n",
      "4.0\n"
     ]
    }
   ],
   "source": [
    "z=3+4jS\n",
    "print(z.real)\n",
    "print(z.imag)"
   ]
  },
  {
   "cell_type": "code",
   "execution_count": 3,
   "id": "8ecb2e4c-4362-4a71-8355-3193752fdbb0",
   "metadata": {},
   "outputs": [
    {
     "name": "stdout",
     "output_type": "stream",
     "text": [
      "(4+6j)\n",
      "(2+2j)\n",
      "(-5+10j)\n",
      "(2.2-0.4j)\n"
     ]
    }
   ],
   "source": [
    "a=3+4j\n",
    "b=1+2j\n",
    "print(a+b)\n",
    "print(a-b)\n",
    "print(a*b)\n",
    "print(a/b)"
   ]
  },
  {
   "cell_type": "code",
   "execution_count": 6,
   "id": "9a1de5c1-5d6d-4f81-9309-c594df4f05bb",
   "metadata": {},
   "outputs": [
    {
     "name": "stdout",
     "output_type": "stream",
     "text": [
      "5.0\n",
      "(3-4j)\n"
     ]
    }
   ],
   "source": [
    "z=3+4j\n",
    "print(abs(z))\n",
    "print(z.conjugate())"
   ]
  },
  {
   "cell_type": "code",
   "execution_count": 7,
   "id": "704aabe8-fa98-45a5-84cd-c3f58558524f",
   "metadata": {},
   "outputs": [
    {
     "name": "stdout",
     "output_type": "stream",
     "text": [
      "0.7853981633974483\n",
      "(1.4142135623730951, 0.7853981633974483)\n",
      "(1.09868411346781+0.45508986056222733j)\n"
     ]
    }
   ],
   "source": [
    "import cmath\n",
    "z=1+1j\n",
    "print(cmath.phase(z))\n",
    "print(cmath.polar(z))\n",
    "print(cmath.sqrt(z))"
   ]
  },
  {
   "cell_type": "markdown",
   "id": "5a37a5a7-5fdf-45bb-842a-d0df74ef9de5",
   "metadata": {},
   "source": [
    "#Python type casting"
   ]
  },
  {
   "cell_type": "code",
   "execution_count": 1,
   "id": "71a0bbef-c84e-4425-9fcb-4289f2ac1053",
   "metadata": {},
   "outputs": [
    {
     "data": {
      "text/plain": [
       "2"
      ]
     },
     "execution_count": 1,
     "metadata": {},
     "output_type": "execute_result"
    }
   ],
   "source": [
    "# Convert one data type to another data type\n",
    "#while type casting we can pass only one argument\n",
    "int(2.3)\n"
   ]
  },
  {
   "cell_type": "code",
   "execution_count": 2,
   "id": "94df3e7b-8931-4260-8a88-6ed76ab27b11",
   "metadata": {},
   "outputs": [
    {
     "data": {
      "text/plain": [
       "1"
      ]
     },
     "execution_count": 2,
     "metadata": {},
     "output_type": "execute_result"
    }
   ],
   "source": [
    "int(True)"
   ]
  },
  {
   "cell_type": "code",
   "execution_count": 3,
   "id": "7738a345-5d4f-44cd-b6a6-2b0548817980",
   "metadata": {},
   "outputs": [
    {
     "data": {
      "text/plain": [
       "0"
      ]
     },
     "execution_count": 3,
     "metadata": {},
     "output_type": "execute_result"
    }
   ],
   "source": [
    "int(False)"
   ]
  },
  {
   "cell_type": "code",
   "execution_count": 6,
   "id": "cc99750f-9a0d-46fb-a14e-d3d5740de05e",
   "metadata": {},
   "outputs": [
    {
     "name": "stdout",
     "output_type": "stream",
     "text": [
      "2\n",
      "1\n",
      "10\n"
     ]
    },
    {
     "ename": "TypeError",
     "evalue": "int() argument must be a string, a bytes-like object or a real number, not 'complex'",
     "output_type": "error",
     "traceback": [
      "\u001b[1;31m---------------------------------------------------------------------------\u001b[0m",
      "\u001b[1;31mTypeError\u001b[0m                                 Traceback (most recent call last)",
      "Cell \u001b[1;32mIn[6], line 4\u001b[0m\n\u001b[0;32m      2\u001b[0m \u001b[38;5;28mprint\u001b[39m(\u001b[38;5;28mint\u001b[39m(\u001b[38;5;28;01mTrue\u001b[39;00m))\n\u001b[0;32m      3\u001b[0m \u001b[38;5;28mprint\u001b[39m(\u001b[38;5;28mint\u001b[39m(\u001b[38;5;124m'\u001b[39m\u001b[38;5;124m10\u001b[39m\u001b[38;5;124m'\u001b[39m))\n\u001b[1;32m----> 4\u001b[0m \u001b[38;5;28mprint\u001b[39m(\u001b[38;5;28mint\u001b[39m(\u001b[38;5;241m1\u001b[39m\u001b[38;5;241m+\u001b[39m\u001b[38;5;241m2\u001b[39mj))\n",
      "\u001b[1;31mTypeError\u001b[0m: int() argument must be a string, a bytes-like object or a real number, not 'complex'"
     ]
    }
   ],
   "source": [
    "print(int(2.3)) #floatto int\n",
    "print(int(True)) # bool to int\n",
    "print(int('10')) #String to int\n",
    "print(int(1+2j)) #   wont possible complex & String with text"
   ]
  },
  {
   "cell_type": "code",
   "execution_count": 9,
   "id": "a781d7f9-37bd-4e89-aa3a-cfbc054465b7",
   "metadata": {},
   "outputs": [
    {
     "data": {
      "text/plain": [
       "1"
      ]
     },
     "execution_count": 9,
     "metadata": {},
     "output_type": "execute_result"
    }
   ],
   "source": [
    "int('1')"
   ]
  },
  {
   "cell_type": "code",
   "execution_count": 13,
   "id": "a2f338e7-7174-4f9e-869c-76261d05d361",
   "metadata": {},
   "outputs": [
    {
     "name": "stdout",
     "output_type": "stream",
     "text": [
      "2.0\n",
      "0.0\n",
      "1.0\n",
      "0.0\n"
     ]
    },
    {
     "ename": "TypeError",
     "evalue": "float() argument must be a string or a real number, not 'complex'",
     "output_type": "error",
     "traceback": [
      "\u001b[1;31m---------------------------------------------------------------------------\u001b[0m",
      "\u001b[1;31mTypeError\u001b[0m                                 Traceback (most recent call last)",
      "Cell \u001b[1;32mIn[13], line 5\u001b[0m\n\u001b[0;32m      3\u001b[0m \u001b[38;5;28mprint\u001b[39m(\u001b[38;5;28mfloat\u001b[39m(\u001b[38;5;28;01mTrue\u001b[39;00m))\n\u001b[0;32m      4\u001b[0m \u001b[38;5;28mprint\u001b[39m(\u001b[38;5;28mfloat\u001b[39m())\n\u001b[1;32m----> 5\u001b[0m \u001b[38;5;28mprint\u001b[39m(\u001b[38;5;28mfloat\u001b[39m(\u001b[38;5;241m1\u001b[39m\u001b[38;5;241m+\u001b[39m\u001b[38;5;241m2\u001b[39mj))\n",
      "\u001b[1;31mTypeError\u001b[0m: float() argument must be a string or a real number, not 'complex'"
     ]
    }
   ],
   "source": [
    "print(float(2)) # Float to int\n",
    "print(float(False)) # bool to float\n",
    "print(float(True)) #bool to float\n",
    "print(float()) \n",
    "print(float(1+2j)) #complex to float wont possible"
   ]
  },
  {
   "cell_type": "code",
   "execution_count": 14,
   "id": "5017daa3-8568-44d0-b4d9-d00918cf06d9",
   "metadata": {},
   "outputs": [
    {
     "data": {
      "text/plain": [
       "(10+0j)"
      ]
     },
     "execution_count": 14,
     "metadata": {},
     "output_type": "execute_result"
    }
   ],
   "source": [
    "complex(10)"
   ]
  },
  {
   "cell_type": "code",
   "execution_count": 16,
   "id": "91cb8df7-acfd-4902-8a84-7241f31de35b",
   "metadata": {},
   "outputs": [
    {
     "data": {
      "text/plain": [
       "(10+20j)"
      ]
     },
     "execution_count": 16,
     "metadata": {},
     "output_type": "execute_result"
    }
   ],
   "source": [
    "complex(10,20)"
   ]
  },
  {
   "cell_type": "code",
   "execution_count": 18,
   "id": "54880796-e5d4-4bbb-bb25-4d7b8a681eb8",
   "metadata": {},
   "outputs": [
    {
     "data": {
      "text/plain": [
       "(30+0j)"
      ]
     },
     "execution_count": 18,
     "metadata": {},
     "output_type": "execute_result"
    }
   ],
   "source": [
    "complex(10+20)"
   ]
  },
  {
   "cell_type": "code",
   "execution_count": 19,
   "id": "e344c245-592d-46ad-94a3-97477a07538f",
   "metadata": {},
   "outputs": [
    {
     "ename": "TypeError",
     "evalue": "complex() takes at most 2 arguments (3 given)",
     "output_type": "error",
     "traceback": [
      "\u001b[1;31m---------------------------------------------------------------------------\u001b[0m",
      "\u001b[1;31mTypeError\u001b[0m                                 Traceback (most recent call last)",
      "Cell \u001b[1;32mIn[19], line 1\u001b[0m\n\u001b[1;32m----> 1\u001b[0m \u001b[38;5;28mcomplex\u001b[39m(\u001b[38;5;241m10\u001b[39m,\u001b[38;5;241m20\u001b[39m,\u001b[38;5;241m30\u001b[39m)\n",
      "\u001b[1;31mTypeError\u001b[0m: complex() takes at most 2 arguments (3 given)"
     ]
    }
   ],
   "source": [
    "complex(10,20,30) # only two orgiments bcz real & imaginary"
   ]
  },
  {
   "cell_type": "code",
   "execution_count": 20,
   "id": "9cff8188-2b50-4bc2-b1bd-cf66337a3944",
   "metadata": {},
   "outputs": [
    {
     "data": {
      "text/plain": [
       "(2.3+5.6j)"
      ]
     },
     "execution_count": 20,
     "metadata": {},
     "output_type": "execute_result"
    }
   ],
   "source": [
    "complex(2.3,5.6)"
   ]
  },
  {
   "cell_type": "code",
   "execution_count": 21,
   "id": "10046c13-ab65-4482-af74-589bef002ef1",
   "metadata": {},
   "outputs": [
    {
     "data": {
      "text/plain": [
       "(5+2.3j)"
      ]
     },
     "execution_count": 21,
     "metadata": {},
     "output_type": "execute_result"
    }
   ],
   "source": [
    "complex(5,2.3)"
   ]
  },
  {
   "cell_type": "code",
   "execution_count": 22,
   "id": "c1e905ce-93d0-4c11-9862-2c937907de44",
   "metadata": {},
   "outputs": [
    {
     "data": {
      "text/plain": [
       "0j"
      ]
     },
     "execution_count": 22,
     "metadata": {},
     "output_type": "execute_result"
    }
   ],
   "source": [
    "complex(False,False)"
   ]
  },
  {
   "cell_type": "code",
   "execution_count": null,
   "id": "526f0840-1350-45ad-926b-b23e31940a3e",
   "metadata": {},
   "outputs": [],
   "source": [
    "complex('1',23) #complex cant take second argument when 1st argument is string, \n",
    "                #even if we define both as string\n",
    "                #it accepts only second argument as a string"
   ]
  },
  {
   "cell_type": "code",
   "execution_count": 25,
   "id": "533d181f-d1a0-4c89-8e1e-5849ff3d6160",
   "metadata": {},
   "outputs": [
    {
     "name": "stdout",
     "output_type": "stream",
     "text": [
      "True\n",
      "True\n",
      "True\n",
      "True\n",
      "False\n"
     ]
    }
   ],
   "source": [
    "print(bool(1))\n",
    "print(bool(1.1))   # from all other data types to boolean is possible\n",
    "print(bool(1+2j))\n",
    "print(bool('nit'))\n",
    "print(bool())     # no argument means false"
   ]
  },
  {
   "cell_type": "code",
   "execution_count": 26,
   "id": "0667675c-5c9f-4b72-bedd-f26b0867aa77",
   "metadata": {},
   "outputs": [
    {
     "data": {
      "text/plain": [
       "'2'"
      ]
     },
     "execution_count": 26,
     "metadata": {},
     "output_type": "execute_result"
    }
   ],
   "source": [
    "str(2)"
   ]
  },
  {
   "cell_type": "code",
   "execution_count": 31,
   "id": "b9c38d36-078e-4eca-8c38-bed0344b4a4d",
   "metadata": {},
   "outputs": [
    {
     "name": "stdout",
     "output_type": "stream",
     "text": [
      "2.2\n",
      "(1+2j)\n",
      "True\n",
      "False\n"
     ]
    }
   ],
   "source": [
    "print(str(2.2))\n",
    "print(str(1+2j))\n",
    "print(str(True))\n",
    "print(str(False))"
   ]
  },
  {
   "cell_type": "code",
   "execution_count": null,
   "id": "edaaebc7-986f-44a0-bb7e-8fdb475e3eed",
   "metadata": {},
   "outputs": [],
   "source": [
    "Trasformer means we can convert catagerical data type to bool& String"
   ]
  },
  {
   "cell_type": "code",
   "execution_count": 1,
   "id": "da537136-31ea-402d-8837-5a09ef3c5f53",
   "metadata": {},
   "outputs": [
    {
     "name": "stdout",
     "output_type": "stream",
     "text": [
      "9\n"
     ]
    }
   ],
   "source": [
    "a=5\n",
    "b=4                  #Python is both interpreter and compiler\n",
    "c=a+b\n",
    "print(c)"
   ]
  },
  {
   "cell_type": "code",
   "execution_count": 4,
   "id": "d62c7bb2-2dda-402e-8205-ac5e6586d33b",
   "metadata": {},
   "outputs": [
    {
     "ename": "SyntaxError",
     "evalue": "invalid syntax (2092073568.py, line 1)",
     "output_type": "error",
     "traceback": [
      "\u001b[1;36m  Cell \u001b[1;32mIn[4], line 1\u001b[1;36m\u001b[0m\n\u001b[1;33m    import.sys\u001b[0m\n\u001b[1;37m          ^\u001b[0m\n\u001b[1;31mSyntaxError\u001b[0m\u001b[1;31m:\u001b[0m invalid syntax\n"
     ]
    }
   ],
   "source": [
    "import.sys\n",
    "sys.version"
   ]
  },
  {
   "cell_type": "markdown",
   "id": "433925c5-d4a6-4915-9dc1-481aa3e52428",
   "metadata": {},
   "source": [
    "#List Dta Structure"
   ]
  },
  {
   "cell_type": "code",
   "execution_count": 85,
   "id": "fd28e95e-d785-423b-871d-18143914e4ec",
   "metadata": {},
   "outputs": [
    {
     "data": {
      "text/plain": [
       "[]"
      ]
     },
     "execution_count": 85,
     "metadata": {},
     "output_type": "execute_result"
    }
   ],
   "source": [
    "l=[]\n",
    "l"
   ]
  },
  {
   "cell_type": "code",
   "execution_count": 86,
   "id": "5aa409f0-4e10-4076-acce-2c601970f5e2",
   "metadata": {},
   "outputs": [
    {
     "data": {
      "text/plain": [
       "list"
      ]
     },
     "execution_count": 86,
     "metadata": {},
     "output_type": "execute_result"
    }
   ],
   "source": [
    "type(l)"
   ]
  },
  {
   "cell_type": "code",
   "execution_count": 87,
   "id": "44fdfb7b-f23f-4ad9-87ba-146aee97413a",
   "metadata": {},
   "outputs": [
    {
     "name": "stdout",
     "output_type": "stream",
     "text": [
      "<class 'list'>\n"
     ]
    }
   ],
   "source": [
    "print(type(l))"
   ]
  },
  {
   "cell_type": "code",
   "execution_count": 88,
   "id": "f49c3300-4f0b-4302-abe2-e7b8d527108b",
   "metadata": {},
   "outputs": [
    {
     "data": {
      "text/plain": [
       "0"
      ]
     },
     "execution_count": 88,
     "metadata": {},
     "output_type": "execute_result"
    }
   ],
   "source": [
    "len(l)"
   ]
  },
  {
   "cell_type": "code",
   "execution_count": 89,
   "id": "3aae7353-fc76-4067-a267-923f25a9bb55",
   "metadata": {},
   "outputs": [
    {
     "data": {
      "text/plain": [
       "[10]"
      ]
     },
     "execution_count": 89,
     "metadata": {},
     "output_type": "execute_result"
    }
   ],
   "source": [
    "l.append(10)# it add a valve at end of the list ,\n",
    "l            #it takes only one valve in arguments"
   ]
  },
  {
   "cell_type": "code",
   "execution_count": 90,
   "id": "c55db2f7-0a5e-4fa7-b32f-dec19d9b5991",
   "metadata": {},
   "outputs": [
    {
     "data": {
      "text/plain": [
       "[10, 12, 1, 15, 16, 10]"
      ]
     },
     "execution_count": 90,
     "metadata": {},
     "output_type": "execute_result"
    }
   ],
   "source": [
    "\n",
    "l.append(12) \n",
    "l.append(1) \n",
    "l.append(15) # duplicates are allowed\n",
    "l.append(16) \n",
    "l.append(10) \n",
    "l\n"
   ]
  },
  {
   "cell_type": "code",
   "execution_count": 91,
   "id": "69828f37-e1d2-4026-aec1-0c37b1bc8672",
   "metadata": {},
   "outputs": [
    {
     "data": {
      "text/plain": [
       "6"
      ]
     },
     "execution_count": 91,
     "metadata": {},
     "output_type": "execute_result"
    }
   ],
   "source": [
    "len(l)"
   ]
  },
  {
   "cell_type": "markdown",
   "id": "5fac3f04-1020-489b-bde2-3aa460138288",
   "metadata": {},
   "source": [
    "#Day 24"
   ]
  },
  {
   "cell_type": "code",
   "execution_count": 92,
   "id": "1b26422d-dcfb-4982-b245-d8c3733ebddc",
   "metadata": {},
   "outputs": [
    {
     "data": {
      "text/plain": [
       "10"
      ]
     },
     "execution_count": 92,
     "metadata": {},
     "output_type": "execute_result"
    }
   ],
   "source": [
    "l[0]\n"
   ]
  },
  {
   "cell_type": "code",
   "execution_count": 93,
   "id": "025d8965-46dc-4751-b046-58413fe516fb",
   "metadata": {},
   "outputs": [
    {
     "data": {
      "text/plain": [
       "[100, 12, 1, 15, 16, 10]"
      ]
     },
     "execution_count": 93,
     "metadata": {},
     "output_type": "execute_result"
    }
   ],
   "source": [
    "l[0]=100\n",
    "l"
   ]
  },
  {
   "cell_type": "code",
   "execution_count": 94,
   "id": "0b0cd1a3-6720-4726-8cf3-a06fad5a4bf7",
   "metadata": {},
   "outputs": [
    {
     "data": {
      "text/plain": [
       "[100, 12, 1, 15, 16, -50]"
      ]
     },
     "execution_count": 94,
     "metadata": {},
     "output_type": "execute_result"
    }
   ],
   "source": [
    "l[-1]=-50\n",
    "l"
   ]
  },
  {
   "cell_type": "code",
   "execution_count": 95,
   "id": "fdfc02ee-cf49-4374-9b27-82dfe9f1a4f6",
   "metadata": {},
   "outputs": [
    {
     "data": {
      "text/plain": [
       "[100, 12, 1, 15, 16, -50]"
      ]
     },
     "execution_count": 95,
     "metadata": {},
     "output_type": "execute_result"
    }
   ],
   "source": [
    "l1=l.copy()\n",
    "l1"
   ]
  },
  {
   "cell_type": "code",
   "execution_count": 96,
   "id": "b6fa2f98-e5ca-4ba6-8d9c-ca24a5d28db6",
   "metadata": {},
   "outputs": [
    {
     "data": {
      "text/plain": [
       "True"
      ]
     },
     "execution_count": 96,
     "metadata": {},
     "output_type": "execute_result"
    }
   ],
   "source": [
    "l==l1"
   ]
  },
  {
   "cell_type": "code",
   "execution_count": 97,
   "id": "f225172e-bfab-48e0-8100-5737227d0b33",
   "metadata": {},
   "outputs": [
    {
     "data": {
      "text/plain": [
       "False"
      ]
     },
     "execution_count": 97,
     "metadata": {},
     "output_type": "execute_result"
    }
   ],
   "source": [
    "id(l)==id(l1)"
   ]
  },
  {
   "cell_type": "code",
   "execution_count": 98,
   "id": "8ae4aeaa-66d3-48ca-a141-41a8b14a11e7",
   "metadata": {},
   "outputs": [
    {
     "data": {
      "text/plain": [
       "True"
      ]
     },
     "execution_count": 98,
     "metadata": {},
     "output_type": "execute_result"
    }
   ],
   "source": [
    "id(l)!=id(l1)"
   ]
  },
  {
   "cell_type": "code",
   "execution_count": 99,
   "id": "0e23d1a2-f46c-4279-bf87-b358dc2aabe0",
   "metadata": {},
   "outputs": [
    {
     "data": {
      "text/plain": [
       "0"
      ]
     },
     "execution_count": 99,
     "metadata": {},
     "output_type": "execute_result"
    }
   ],
   "source": [
    "l.count(20)"
   ]
  },
  {
   "cell_type": "code",
   "execution_count": 100,
   "id": "4d8b8fb5-c954-4058-9aab-6dbb803b537f",
   "metadata": {},
   "outputs": [
    {
     "data": {
      "text/plain": [
       "[100, 12, 1, 15, 16, -50, 20]"
      ]
     },
     "execution_count": 100,
     "metadata": {},
     "output_type": "execute_result"
    }
   ],
   "source": [
    "l.append(20)\n",
    "l"
   ]
  },
  {
   "cell_type": "code",
   "execution_count": 101,
   "id": "8976aa63-5d09-4fbf-9605-7fab81d30a7c",
   "metadata": {},
   "outputs": [
    {
     "data": {
      "text/plain": [
       "[100, 12, 1, 15, 16, -50, 20, 20]"
      ]
     },
     "execution_count": 101,
     "metadata": {},
     "output_type": "execute_result"
    }
   ],
   "source": [
    "l.append(20)\n",
    "l"
   ]
  },
  {
   "cell_type": "code",
   "execution_count": 102,
   "id": "d10fd4e9-63b5-4bb4-b857-91a8dac602d4",
   "metadata": {},
   "outputs": [
    {
     "data": {
      "text/plain": [
       "2"
      ]
     },
     "execution_count": 102,
     "metadata": {},
     "output_type": "execute_result"
    }
   ],
   "source": [
    "l.count(20)"
   ]
  },
  {
   "cell_type": "code",
   "execution_count": 103,
   "id": "0f577ee4-9b15-42ca-a54e-25c13247caa4",
   "metadata": {},
   "outputs": [
    {
     "data": {
      "text/plain": [
       "[]"
      ]
     },
     "execution_count": 103,
     "metadata": {},
     "output_type": "execute_result"
    }
   ],
   "source": [
    "\n",
    "l1.clear()\n",
    "l1"
   ]
  },
  {
   "cell_type": "code",
   "execution_count": 104,
   "id": "d569a2d7-057c-47a7-9363-5fd9e8cd3600",
   "metadata": {},
   "outputs": [],
   "source": [
    "l2=[]"
   ]
  },
  {
   "cell_type": "code",
   "execution_count": 105,
   "id": "2ab0842f-aa0c-4b16-b54d-fe44132ec082",
   "metadata": {},
   "outputs": [
    {
     "data": {
      "text/plain": [
       "['nit', 20, 16.4, (2+4j)]"
      ]
     },
     "execution_count": 105,
     "metadata": {},
     "output_type": "execute_result"
    }
   ],
   "source": [
    "l2.append('nit')\n",
    "l2.append(20)\n",
    "l2.append(16.4)\n",
    "l2.append(2+4j)\n",
    "l2"
   ]
  },
  {
   "cell_type": "code",
   "execution_count": 106,
   "id": "24291406-de9b-43fd-9405-3d215f2adab8",
   "metadata": {},
   "outputs": [
    {
     "data": {
      "text/plain": [
       "3"
      ]
     },
     "execution_count": 106,
     "metadata": {},
     "output_type": "execute_result"
    }
   ],
   "source": [
    "l.index(15)"
   ]
  },
  {
   "cell_type": "code",
   "execution_count": 107,
   "id": "d76fc81a-ac29-440d-9cc6-0678b7babcd3",
   "metadata": {},
   "outputs": [
    {
     "data": {
      "text/plain": [
       "5"
      ]
     },
     "execution_count": 107,
     "metadata": {},
     "output_type": "execute_result"
    }
   ],
   "source": [
    "l.index(-50)"
   ]
  },
  {
   "cell_type": "code",
   "execution_count": 108,
   "id": "c403aeb4-9039-493a-8d8a-28bc6f919aaa",
   "metadata": {},
   "outputs": [
    {
     "data": {
      "text/plain": [
       "20"
      ]
     },
     "execution_count": 108,
     "metadata": {},
     "output_type": "execute_result"
    }
   ],
   "source": [
    "l2[1]"
   ]
  },
  {
   "cell_type": "code",
   "execution_count": 109,
   "id": "03c968d9-f2f5-40e3-8906-084a94287309",
   "metadata": {},
   "outputs": [
    {
     "data": {
      "text/plain": [
       "'nit'"
      ]
     },
     "execution_count": 109,
     "metadata": {},
     "output_type": "execute_result"
    }
   ],
   "source": [
    "l2[0]"
   ]
  },
  {
   "cell_type": "code",
   "execution_count": 110,
   "id": "03aa1371-0f23-40a4-ba40-1f29800ba5eb",
   "metadata": {},
   "outputs": [
    {
     "data": {
      "text/plain": [
       "[100, 12, 1, 15, 16, -50, 20, 20]"
      ]
     },
     "execution_count": 110,
     "metadata": {},
     "output_type": "execute_result"
    }
   ],
   "source": [
    "l[:10]"
   ]
  },
  {
   "cell_type": "code",
   "execution_count": 111,
   "id": "e0bde175-02c0-4b5a-a0b2-70c7721accc6",
   "metadata": {},
   "outputs": [
    {
     "data": {
      "text/plain": [
       "[100, 15, 20]"
      ]
     },
     "execution_count": 111,
     "metadata": {},
     "output_type": "execute_result"
    }
   ],
   "source": [
    "l[0:8:3]"
   ]
  },
  {
   "cell_type": "code",
   "execution_count": 112,
   "id": "07f9b9eb-1d76-4ef1-a6d3-d9ac4bbc194a",
   "metadata": {},
   "outputs": [
    {
     "data": {
      "text/plain": [
       "[100, 12, 6, 1, 15, 16, -50, 20, 20]"
      ]
     },
     "execution_count": 112,
     "metadata": {},
     "output_type": "execute_result"
    }
   ],
   "source": [
    "\n",
    "l.insert(2,6)\n",
    "l"
   ]
  },
  {
   "cell_type": "code",
   "execution_count": 113,
   "id": "6cbb7649-c74c-48ba-b8d3-d516886daed8",
   "metadata": {},
   "outputs": [
    {
     "data": {
      "text/plain": [
       "[100, 12, 6, 1, 15, 16, -50, 20]"
      ]
     },
     "execution_count": 113,
     "metadata": {},
     "output_type": "execute_result"
    }
   ],
   "source": [
    "l.pop()\n",
    "l"
   ]
  },
  {
   "cell_type": "code",
   "execution_count": 114,
   "id": "c42a00c7-4dff-4779-8988-7fdefc70fee8",
   "metadata": {},
   "outputs": [
    {
     "data": {
      "text/plain": [
       "20"
      ]
     },
     "execution_count": 114,
     "metadata": {},
     "output_type": "execute_result"
    }
   ],
   "source": [
    "l.pop()"
   ]
  },
  {
   "cell_type": "code",
   "execution_count": 115,
   "id": "3780ebac-f551-49d4-b449-f83d90314adb",
   "metadata": {},
   "outputs": [
    {
     "data": {
      "text/plain": [
       "[100, 12, 6, 1, 15, 16, -50]"
      ]
     },
     "execution_count": 115,
     "metadata": {},
     "output_type": "execute_result"
    }
   ],
   "source": [
    "l"
   ]
  }
 ],
 "metadata": {
  "kernelspec": {
   "display_name": "Python 3 (ipykernel)",
   "language": "python",
   "name": "python3"
  },
  "language_info": {
   "codemirror_mode": {
    "name": "ipython",
    "version": 3
   },
   "file_extension": ".py",
   "mimetype": "text/x-python",
   "name": "python",
   "nbconvert_exporter": "python",
   "pygments_lexer": "ipython3",
   "version": "3.12.7"
  }
 },
 "nbformat": 4,
 "nbformat_minor": 5
}
