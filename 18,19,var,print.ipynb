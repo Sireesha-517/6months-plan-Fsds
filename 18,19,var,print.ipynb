{
 "cells": [
  {
   "cell_type": "code",
   "execution_count": 2,
   "id": "71d99740-2f9a-4e62-87ea-4542e66034ed",
   "metadata": {},
   "outputs": [
    {
     "name": "stdout",
     "output_type": "stream",
     "text": [
      "25\n"
     ]
    }
   ],
   "source": [
    "#syntax ->variable_name=value\n",
    "a=25\n",
    "print(a)"
   ]
  },
  {
   "cell_type": "code",
   "execution_count": 3,
   "id": "c8c7170b-c5e8-4c66-8967-aebe4927fbdd",
   "metadata": {},
   "outputs": [
    {
     "name": "stdout",
     "output_type": "stream",
     "text": [
      "alice\n"
     ]
    }
   ],
   "source": [
    "name=\"alice\"\n",
    "print(name)"
   ]
  },
  {
   "cell_type": "code",
   "execution_count": 4,
   "id": "189862a3-487c-4275-86a1-923c462d1e47",
   "metadata": {},
   "outputs": [
    {
     "name": "stdout",
     "output_type": "stream",
     "text": [
      "19.99\n"
     ]
    }
   ],
   "source": [
    "price=19.99\n",
    "print(price)"
   ]
  },
  {
   "cell_type": "code",
   "execution_count": 5,
   "id": "9aec7bab-ef3f-4e30-acdf-a002d19d0365",
   "metadata": {},
   "outputs": [
    {
     "name": "stdout",
     "output_type": "stream",
     "text": [
      "True\n"
     ]
    }
   ],
   "source": [
    "s=True\n",
    "print(s)"
   ]
  },
  {
   "cell_type": "code",
   "execution_count": 6,
   "id": "0b5d67d8-89ba-44b2-b8fa-b5650d3ed633",
   "metadata": {},
   "outputs": [
    {
     "name": "stdout",
     "output_type": "stream",
     "text": [
      "10\n"
     ]
    }
   ],
   "source": [
    "#Storing and Printing the values\n",
    "x=10\n",
    "print(x)"
   ]
  },
  {
   "cell_type": "code",
   "execution_count": 7,
   "id": "6bfa1663-6347-4027-ad95-2f3ab95dcc8d",
   "metadata": {},
   "outputs": [
    {
     "name": "stdout",
     "output_type": "stream",
     "text": [
      "8\n"
     ]
    }
   ],
   "source": [
    "#Using variables in Expression\n",
    "a=5\n",
    "b=3\n",
    "print(a+b)"
   ]
  },
  {
   "cell_type": "code",
   "execution_count": 8,
   "id": "c0780465-5212-4d02-8a33-9e5fde84dba1",
   "metadata": {},
   "outputs": [
    {
     "name": "stdout",
     "output_type": "stream",
     "text": [
      "8\n"
     ]
    }
   ],
   "source": [
    "a=5\n",
    "b=3\n",
    "s=(a+b)\n",
    "print(s)"
   ]
  },
  {
   "cell_type": "code",
   "execution_count": 9,
   "id": "1d476b05-4cdb-4435-9a90-0dab62e14cbf",
   "metadata": {},
   "outputs": [
    {
     "name": "stdout",
     "output_type": "stream",
     "text": [
      "50\n"
     ]
    }
   ],
   "source": [
    "#Changing the values of a Values\n",
    "score=50\n",
    "print(score)"
   ]
  },
  {
   "cell_type": "code",
   "execution_count": 10,
   "id": "230b1a3b-16ed-47b6-b3ff-57a7e87b15e3",
   "metadata": {},
   "outputs": [
    {
     "name": "stdout",
     "output_type": "stream",
     "text": [
      "100\n"
     ]
    }
   ],
   "source": [
    "score=100\n",
    "print(score)"
   ]
  },
  {
   "cell_type": "code",
   "execution_count": 13,
   "id": "717a5998-75f1-417d-978b-73bd3c6c61a3",
   "metadata": {},
   "outputs": [
    {
     "name": "stdout",
     "output_type": "stream",
     "text": [
      "john Doe\n"
     ]
    }
   ],
   "source": [
    "#Concatinating Strings\n",
    "first_name=\"john\"\n",
    "last_name=\"Doe\"\n",
    "full_name=first_name+\" \"+last_name\n",
    "print(full_name)"
   ]
  },
  {
   "cell_type": "code",
   "execution_count": 14,
   "id": "de669051-74e3-40ad-addc-90943d391303",
   "metadata": {},
   "outputs": [
    {
     "name": "stdout",
     "output_type": "stream",
     "text": [
      "50\n"
     ]
    }
   ],
   "source": [
    "#using variables in calculation\n",
    "l=10\n",
    "w=5\n",
    "area=l*w\n",
    "print(area)"
   ]
  },
  {
   "cell_type": "code",
   "execution_count": 15,
   "id": "4925e311-6133-466c-9aba-5698249d4c86",
   "metadata": {},
   "outputs": [
    {
     "name": "stdout",
     "output_type": "stream",
     "text": [
      "10\n"
     ]
    }
   ],
   "source": [
    "#Reassigning values to variables\n",
    "x=10\n",
    "print(x)"
   ]
  },
  {
   "cell_type": "code",
   "execution_count": 16,
   "id": "7bea7a21-9bd9-4642-acb1-a1680e70ba2f",
   "metadata": {},
   "outputs": [
    {
     "name": "stdout",
     "output_type": "stream",
     "text": [
      "20\n"
     ]
    }
   ],
   "source": [
    "x=20\n",
    "print(x)"
   ]
  },
  {
   "cell_type": "code",
   "execution_count": 17,
   "id": "183eb548-0cfd-480f-a870-69d4898ae8de",
   "metadata": {},
   "outputs": [
    {
     "data": {
      "text/plain": [
       "20"
      ]
     },
     "execution_count": 17,
     "metadata": {},
     "output_type": "execute_result"
    }
   ],
   "source": [
    "# print is used for answers\n",
    "a=10\n",
    "b=20\n",
    "a\n",
    "b"
   ]
  },
  {
   "cell_type": "code",
   "execution_count": 18,
   "id": "fe44ca44-778a-49aa-80d0-6af3dd191f51",
   "metadata": {},
   "outputs": [
    {
     "name": "stdout",
     "output_type": "stream",
     "text": [
      "10\n",
      "20\n"
     ]
    }
   ],
   "source": [
    "a=10\n",
    "b=20\n",
    "print(a)\n",
    "print(b)"
   ]
  },
  {
   "cell_type": "code",
   "execution_count": 19,
   "id": "265c5432-cb97-4162-a9bc-72542767cbd4",
   "metadata": {},
   "outputs": [
    {
     "name": "stdout",
     "output_type": "stream",
     "text": [
      "10\n",
      "10 20\n",
      "python\n",
      "10,20,python\n"
     ]
    }
   ],
   "source": [
    "print(10)\n",
    "print(10,20)\n",
    "print('python')\n",
    "print('10,20,python')"
   ]
  },
  {
   "cell_type": "code",
   "execution_count": 26,
   "id": "83bbddcb-f2b0-48ad-be29-d838757ae8e7",
   "metadata": {},
   "outputs": [
    {
     "name": "stdout",
     "output_type": "stream",
     "text": [
      "30\n"
     ]
    }
   ],
   "source": [
    "n1=10\n",
    "n2=20\n",
    "s=n1+n2\n",
    "print(s)"
   ]
  },
  {
   "cell_type": "markdown",
   "id": "7bd66b5a-f44f-4b03-8622-221844cbd59e",
   "metadata": {},
   "source": [
    "# Print result with String\n"
   ]
  },
  {
   "cell_type": "code",
   "execution_count": 24,
   "id": "db6d3950-708e-412b-b4c2-4d693ee953ea",
   "metadata": {},
   "outputs": [
    {
     "name": "stdout",
     "output_type": "stream",
     "text": [
      "The addition of two numbers 10 and 20 is= 30\n"
     ]
    }
   ],
   "source": [
    "num1=10\n",
    "num2=20\n",
    "add=num1+num2\n",
    "print('The addition of two numbers',num1, 'and',num2,'is=',add)"
   ]
  },
  {
   "cell_type": "code",
   "execution_count": 27,
   "id": "9f9cda6c-16ef-4039-9fd5-ce5125cb7087",
   "metadata": {},
   "outputs": [
    {
     "name": "stdout",
     "output_type": "stream",
     "text": [
      "my name is python and i am  20 years olg from hyd\n"
     ]
    }
   ],
   "source": [
    "name='python'\n",
    "age=20\n",
    "city='hyd'\n",
    "print('my name is',name,'and i am ',age,'years olg from',city) "
   ]
  },
  {
   "cell_type": "markdown",
   "id": "a801b37f-4742-4953-b9f4-162097410480",
   "metadata": {},
   "source": [
    "#Print Format method"
   ]
  },
  {
   "cell_type": "code",
   "execution_count": 29,
   "id": "8233381f-70dd-4a34-803a-5f8ba80ccc39",
   "metadata": {},
   "outputs": [
    {
     "name": "stdout",
     "output_type": "stream",
     "text": [
      "The addition of 20 and 30 is=30\n"
     ]
    }
   ],
   "source": [
    "n1=20\n",
    "n2=30\n",
    "s=n1+n2\n",
    "print('The addition of {} and {} is={}'.format(n1,n2,add))\n",
    "      "
   ]
  },
  {
   "cell_type": "code",
   "execution_count": 31,
   "id": "ca98d0dd-b581-4777-82ca-19200631fa70",
   "metadata": {},
   "outputs": [
    {
     "name": "stdout",
     "output_type": "stream",
     "text": [
      "hello my name is python,and i am 20 years old from hyd\n"
     ]
    }
   ],
   "source": [
    "name='python'\n",
    "age=20\n",
    "city='hyd'\n",
    "print('hello my name is {},and i am {} years old from {}'.format(name,age,city))"
   ]
  },
  {
   "cell_type": "code",
   "execution_count": 35,
   "id": "6d49a57e-d7f9-46e8-a0e7-0960962b2b47",
   "metadata": {},
   "outputs": [
    {
     "name": "stdout",
     "output_type": "stream",
     "text": [
      "The average of 100,25,and 333 is=50.0 or 152.67\n"
     ]
    }
   ],
   "source": [
    "n1=100\n",
    "n2=25\n",
    "n3=333\n",
    "avg=(n1+n2+n2)/3\n",
    "avg1=round((n1+n2+n3)/3,2)\n",
    "print('The average of {},{},and {} is={} or {}'.format(n1,n2,n3,avg,avg1))"
   ]
  },
  {
   "cell_type": "markdown",
   "id": "0617340e-6da8-47c8-a9ad-e69dcec9ed0c",
   "metadata": {},
   "source": [
    "#Short form method (f S tring method)"
   ]
  },
  {
   "cell_type": "code",
   "execution_count": 36,
   "id": "77eaf291-f2be-4453-bb5c-19fac3e64b7e",
   "metadata": {},
   "outputs": [
    {
     "name": "stdout",
     "output_type": "stream",
     "text": [
      "The addition of 10 and 20 is= 30\n"
     ]
    }
   ],
   "source": [
    "a=10\n",
    "b-20\n",
    "add=a+b\n",
    "print(f'The addition of {a} and {b} is= {add}')"
   ]
  },
  {
   "cell_type": "code",
   "execution_count": 37,
   "id": "6dcd81e0-c655-4e41-9e75-614f60f75744",
   "metadata": {},
   "outputs": [
    {
     "name": "stdout",
     "output_type": "stream",
     "text": [
      "hello my name is python, and i am 20 years old,from hyyd.\n"
     ]
    }
   ],
   "source": [
    "name ='python'\n",
    "age=20\n",
    "city='hyyd'\n",
    "print(f'hello my name is {name}, and i am {age} years old,from {city}.')\n"
   ]
  },
  {
   "cell_type": "code",
   "execution_count": 39,
   "id": "116d66b7-f6f8-47cd-88c9-0892557e1d03",
   "metadata": {},
   "outputs": [
    {
     "name": "stdout",
     "output_type": "stream",
     "text": [
      "The addition of 10 and 20 is= 30\n",
      "The addition of 10 and 20 is=30\n",
      "The addition of 10 and 20 is=30\n"
     ]
    }
   ],
   "source": [
    "n1=10\n",
    "n2=20\n",
    "add=n1+n2\n",
    "print('The addition of',n1,'and',n2,'is=',add)\n",
    "print('The addition of {} and {} is={}'.format(n1,n2,add))\n",
    "print(f'The addition of {n1} and {n2} is={add}')      "
   ]
  },
  {
   "cell_type": "markdown",
   "id": "f3e6e7b7-ebfa-4e2a-8cac-0e5a3aa278a2",
   "metadata": {},
   "source": [
    "# End Statement"
   ]
  },
  {
   "cell_type": "code",
   "execution_count": 40,
   "id": "bc1d2bb1-8182-410e-a25b-2ae1117ee145",
   "metadata": {},
   "outputs": [
    {
     "name": "stdout",
     "output_type": "stream",
     "text": [
      "hello\n",
      "good morning\n"
     ]
    }
   ],
   "source": [
    "print('hello')\n",
    "print('good morning')\n"
   ]
  },
  {
   "cell_type": "code",
   "execution_count": 41,
   "id": "0ce3eeef-7b7f-49ed-96fc-3550f673b4d8",
   "metadata": {},
   "outputs": [
    {
     "name": "stdout",
     "output_type": "stream",
     "text": [
      "hello good morning\n"
     ]
    }
   ],
   "source": [
    "print('hello',end=\" \")\n",
    "print('good morning')"
   ]
  },
  {
   "cell_type": "markdown",
   "id": "637eb6ed-40cf-433e-a66a-db674dfba37c",
   "metadata": {},
   "source": [
    "# Seprator"
   ]
  },
  {
   "cell_type": "code",
   "execution_count": 43,
   "id": "a47c68db-8122-4933-af7a-b9f4238b08a4",
   "metadata": {},
   "outputs": [
    {
     "name": "stdout",
     "output_type": "stream",
     "text": [
      "hello-->hi-->how are u\n"
     ]
    }
   ],
   "source": [
    "print('hello','hi','how are u',sep='-->')"
   ]
  },
  {
   "cell_type": "code",
   "execution_count": 44,
   "id": "1be6896d-e2d9-456e-aeed-e8370f054ede",
   "metadata": {},
   "outputs": [
    {
     "name": "stdout",
     "output_type": "stream",
     "text": [
      "hello@hi@how are u\n"
     ]
    }
   ],
   "source": [
    "print('hello','hi','how are u',sep='@')"
   ]
  },
  {
   "cell_type": "code",
   "execution_count": 45,
   "id": "cd29cbf7-a518-40bc-b708-4666379f2e84",
   "metadata": {},
   "outputs": [
    {
     "name": "stdout",
     "output_type": "stream",
     "text": [
      "hello*hi*how are u\n"
     ]
    }
   ],
   "source": [
    "print('hello','hi','how are u',sep='*')"
   ]
  },
  {
   "cell_type": "code",
   "execution_count": 46,
   "id": "05e886e8-e53f-4877-8867-2c1f8bb0e73a",
   "metadata": {},
   "outputs": [
    {
     "name": "stdout",
     "output_type": "stream",
     "text": [
      "hello hi how are u\n"
     ]
    }
   ],
   "source": [
    "print('hello','hi','how are u',sep=' ')"
   ]
  },
  {
   "cell_type": "code",
   "execution_count": 47,
   "id": "651895c2-8b20-464d-bc1b-a6ec2325461d",
   "metadata": {},
   "outputs": [
    {
     "name": "stdout",
     "output_type": "stream",
     "text": [
      "2 .\n"
     ]
    }
   ],
   "source": [
    "print(2,'.')"
   ]
  },
  {
   "cell_type": "code",
   "execution_count": 49,
   "id": "cf97d701-5f34-4054-94dc-1062efdc6b28",
   "metadata": {},
   "outputs": [
    {
     "name": "stdout",
     "output_type": "stream",
     "text": [
      "2.\n"
     ]
    }
   ],
   "source": [
    "print(2,'.',sep='')"
   ]
  },
  {
   "cell_type": "code",
   "execution_count": 51,
   "id": "bdd95df5-d10d-4af6-8e58-7a6ffc650228",
   "metadata": {},
   "outputs": [
    {
     "name": "stdout",
     "output_type": "stream",
     "text": [
      "1 2 3.\n"
     ]
    }
   ],
   "source": [
    "print(1,2,end=' ')\n",
    "print(3,'.',sep='')\n"
   ]
  },
  {
   "cell_type": "code",
   "execution_count": null,
   "id": "389ab237-db3f-445a-b895-9e36ba612f6a",
   "metadata": {},
   "outputs": [],
   "source": []
  }
 ],
 "metadata": {
  "kernelspec": {
   "display_name": "Python 3 (ipykernel)",
   "language": "python",
   "name": "python3"
  },
  "language_info": {
   "codemirror_mode": {
    "name": "ipython",
    "version": 3
   },
   "file_extension": ".py",
   "mimetype": "text/x-python",
   "name": "python",
   "nbconvert_exporter": "python",
   "pygments_lexer": "ipython3",
   "version": "3.12.7"
  }
 },
 "nbformat": 4,
 "nbformat_minor": 5
}
